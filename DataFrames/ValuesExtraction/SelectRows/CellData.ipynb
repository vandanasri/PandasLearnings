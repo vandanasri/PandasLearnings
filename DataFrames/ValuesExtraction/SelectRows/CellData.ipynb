{
 "cells": [
  {
   "cell_type": "code",
   "execution_count": 6,
   "id": "54c29cbf-92fa-475e-96fb-8034e016c41c",
   "metadata": {},
   "outputs": [
    {
     "data": {
      "text/html": [
       "<div>\n",
       "<style scoped>\n",
       "    .dataframe tbody tr th:only-of-type {\n",
       "        vertical-align: middle;\n",
       "    }\n",
       "\n",
       "    .dataframe tbody tr th {\n",
       "        vertical-align: top;\n",
       "    }\n",
       "\n",
       "    .dataframe thead th {\n",
       "        text-align: right;\n",
       "    }\n",
       "</style>\n",
       "<table border=\"1\" class=\"dataframe\">\n",
       "  <thead>\n",
       "    <tr style=\"text-align: right;\">\n",
       "      <th></th>\n",
       "      <th>Id</th>\n",
       "      <th>Name</th>\n",
       "      <th>Age</th>\n",
       "      <th>City</th>\n",
       "    </tr>\n",
       "  </thead>\n",
       "  <tbody>\n",
       "    <tr>\n",
       "      <th>0</th>\n",
       "      <td>H-20</td>\n",
       "      <td>Alice</td>\n",
       "      <td>24.0</td>\n",
       "      <td>NaN</td>\n",
       "    </tr>\n",
       "    <tr>\n",
       "      <th>1</th>\n",
       "      <td>B-30</td>\n",
       "      <td>Bob</td>\n",
       "      <td>27.0</td>\n",
       "      <td>Los Angeles</td>\n",
       "    </tr>\n",
       "    <tr>\n",
       "      <th>2</th>\n",
       "      <td>E-40</td>\n",
       "      <td>Charlie</td>\n",
       "      <td>NaN</td>\n",
       "      <td>Chicago</td>\n",
       "    </tr>\n",
       "    <tr>\n",
       "      <th>3</th>\n",
       "      <td>M-90</td>\n",
       "      <td>Bob</td>\n",
       "      <td>89.0</td>\n",
       "      <td>Los Angeles</td>\n",
       "    </tr>\n",
       "    <tr>\n",
       "      <th>4</th>\n",
       "      <td>D-50</td>\n",
       "      <td>NaN</td>\n",
       "      <td>32.0</td>\n",
       "      <td>Houston</td>\n",
       "    </tr>\n",
       "    <tr>\n",
       "      <th>5</th>\n",
       "      <td>A-60</td>\n",
       "      <td>Anny</td>\n",
       "      <td>45.0</td>\n",
       "      <td>Los Angeles</td>\n",
       "    </tr>\n",
       "    <tr>\n",
       "      <th>6</th>\n",
       "      <td>F-70</td>\n",
       "      <td>Bobby</td>\n",
       "      <td>33.0</td>\n",
       "      <td>Houston</td>\n",
       "    </tr>\n",
       "    <tr>\n",
       "      <th>7</th>\n",
       "      <td>L-80</td>\n",
       "      <td>Charter</td>\n",
       "      <td>44.0</td>\n",
       "      <td>Chicago</td>\n",
       "    </tr>\n",
       "    <tr>\n",
       "      <th>8</th>\n",
       "      <td>K-90</td>\n",
       "      <td>NaN</td>\n",
       "      <td>NaN</td>\n",
       "      <td>NaN</td>\n",
       "    </tr>\n",
       "  </tbody>\n",
       "</table>\n",
       "</div>"
      ],
      "text/plain": [
       "     Id     Name   Age         City\n",
       "0  H-20    Alice  24.0          NaN\n",
       "1  B-30      Bob  27.0  Los Angeles\n",
       "2  E-40  Charlie   NaN      Chicago\n",
       "3  M-90      Bob  89.0  Los Angeles\n",
       "4  D-50      NaN  32.0      Houston\n",
       "5  A-60     Anny  45.0  Los Angeles\n",
       "6  F-70    Bobby  33.0      Houston\n",
       "7  L-80  Charter  44.0      Chicago\n",
       "8  K-90      NaN   NaN          NaN"
      ]
     },
     "execution_count": 6,
     "metadata": {},
     "output_type": "execute_result"
    }
   ],
   "source": [
    "import pandas as pd\n",
    "import numpy as np\n",
    "data = {\n",
    "    'Id': ['H-20','B-30','E-40','M-90','D-50','A-60','F-70','L-80','K-90'],\n",
    "    'Name': ['Alice', 'Bob', 'Charlie','Bob', np.nan,'Anny', 'Bobby', 'Charter',  np.nan],\n",
    "    'Age': [24, 27,  np.nan,89, 32, 45, 33, 44,  np.nan],\n",
    "    'City': [ np.nan, 'Los Angeles', 'Chicago', 'Los Angeles','Houston','Los Angeles','Houston','Chicago', np.nan]\n",
    "}\n",
    "df = pd.DataFrame(data)\n",
    "df"
   ]
  },
  {
   "cell_type": "code",
   "execution_count": 8,
   "id": "6190b0d3-a2fe-4a9e-a875-8afdf5f1de72",
   "metadata": {},
   "outputs": [
    {
     "data": {
      "text/plain": [
       "0    H-20\n",
       "1    B-30\n",
       "2    E-40\n",
       "3    M-90\n",
       "4    D-50\n",
       "5    A-60\n",
       "6    F-70\n",
       "7    L-80\n",
       "8    K-90\n",
       "Name: Id, dtype: object"
      ]
     },
     "execution_count": 8,
     "metadata": {},
     "output_type": "execute_result"
    }
   ],
   "source": [
    "#get column\n",
    "df.get('Id')"
   ]
  },
  {
   "cell_type": "code",
   "execution_count": 10,
   "id": "fedd3408-f62e-4e26-bec7-a214d18858f1",
   "metadata": {},
   "outputs": [
    {
     "data": {
      "text/plain": [
       "'Column not found'"
      ]
     },
     "execution_count": 10,
     "metadata": {},
     "output_type": "execute_result"
    }
   ],
   "source": [
    "#get column with default value\n",
    "df.get('AB', default='Column not found')"
   ]
  },
  {
   "cell_type": "code",
   "execution_count": 12,
   "id": "bb385e6f-fffc-4eb1-839e-76574535ee19",
   "metadata": {},
   "outputs": [
    {
     "data": {
      "text/plain": [
       "Id             B-30\n",
       "Name            Bob\n",
       "Age            27.0\n",
       "City    Los Angeles\n",
       "Name: 1, dtype: object"
      ]
     },
     "execution_count": 12,
     "metadata": {},
     "output_type": "execute_result"
    }
   ],
   "source": [
    "#to get row use loc or iloc\n",
    "df.iloc[1]"
   ]
  },
  {
   "cell_type": "code",
   "execution_count": 38,
   "id": "99b9f582-028d-40a8-bbeb-80e201061215",
   "metadata": {},
   "outputs": [
    {
     "data": {
      "text/html": [
       "<div>\n",
       "<style scoped>\n",
       "    .dataframe tbody tr th:only-of-type {\n",
       "        vertical-align: middle;\n",
       "    }\n",
       "\n",
       "    .dataframe tbody tr th {\n",
       "        vertical-align: top;\n",
       "    }\n",
       "\n",
       "    .dataframe thead th {\n",
       "        text-align: right;\n",
       "    }\n",
       "</style>\n",
       "<table border=\"1\" class=\"dataframe\">\n",
       "  <thead>\n",
       "    <tr style=\"text-align: right;\">\n",
       "      <th></th>\n",
       "      <th>Id</th>\n",
       "      <th>Name</th>\n",
       "      <th>Age</th>\n",
       "      <th>City</th>\n",
       "    </tr>\n",
       "  </thead>\n",
       "  <tbody>\n",
       "    <tr>\n",
       "      <th>1</th>\n",
       "      <td>B-30</td>\n",
       "      <td>Bob</td>\n",
       "      <td>27.0</td>\n",
       "      <td>Los Angeles</td>\n",
       "    </tr>\n",
       "    <tr>\n",
       "      <th>3</th>\n",
       "      <td>M-90</td>\n",
       "      <td>Bob</td>\n",
       "      <td>89.0</td>\n",
       "      <td>Los Angeles</td>\n",
       "    </tr>\n",
       "  </tbody>\n",
       "</table>\n",
       "</div>"
      ],
      "text/plain": [
       "     Id Name   Age         City\n",
       "1  B-30  Bob  27.0  Los Angeles\n",
       "3  M-90  Bob  89.0  Los Angeles"
      ]
     },
     "execution_count": 38,
     "metadata": {},
     "output_type": "execute_result"
    }
   ],
   "source": [
    "# get data using boolean mask\n",
    "df.get(df['Name'] == 'Bob')"
   ]
  },
  {
   "cell_type": "code",
   "execution_count": null,
   "id": "7100e84b-2b03-416a-9ac5-6814ab51a55b",
   "metadata": {},
   "outputs": [],
   "source": []
  }
 ],
 "metadata": {
  "kernelspec": {
   "display_name": "Python 3 (ipykernel)",
   "language": "python",
   "name": "python3"
  },
  "language_info": {
   "codemirror_mode": {
    "name": "ipython",
    "version": 3
   },
   "file_extension": ".py",
   "mimetype": "text/x-python",
   "name": "python",
   "nbconvert_exporter": "python",
   "pygments_lexer": "ipython3",
   "version": "3.11.7"
  }
 },
 "nbformat": 4,
 "nbformat_minor": 5
}
