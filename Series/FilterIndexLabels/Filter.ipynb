{
 "cells": [
  {
   "cell_type": "code",
   "execution_count": 2,
   "id": "6aaec660-3e0e-42a8-851b-798b36223736",
   "metadata": {},
   "outputs": [
    {
     "data": {
      "text/plain": [
       "name\n",
       "Harshit Rana         20.0\n",
       "Ekant Sen             NaN\n",
       "Wayne Parnell         NaN\n",
       "Shakib Al Hasan     150.0\n",
       "Joe Root            100.0\n",
       "                    ...  \n",
       "MS Dhoni           1200.0\n",
       "Moeen Ali           800.0\n",
       "Ruturaj Gaikwad     600.0\n",
       "Rishabh Pant       1600.0\n",
       "Axar Patel          900.0\n",
       "Name: final price (in lacs), Length: 309, dtype: float64"
      ]
     },
     "execution_count": 2,
     "metadata": {},
     "output_type": "execute_result"
    }
   ],
   "source": [
    "import pandas as pd\n",
    "\n",
    "filepath='C:\\\\Users\\\\Admin\\\\Downloads\\\\iplauction2023.csv'\n",
    "#csv file read and get values in Series by using squeeze\n",
    "s = pd.read_csv(filepath, index_col='name', usecols=['final price (in lacs)', 'name']).squeeze()\n",
    "s"
   ]
  },
  {
   "cell_type": "code",
   "execution_count": 6,
   "id": "28d40df9-386f-4aa8-9c7e-8f07dc5b00f5",
   "metadata": {},
   "outputs": [
    {
     "data": {
      "text/plain": [
       "name\n",
       "Mandeep Singh             50.0\n",
       "Murugan Ashwin            20.0\n",
       "Mohit Rathee              20.0\n",
       "Mohit Sharma              50.0\n",
       "Mayank Dagar             180.0\n",
       "Manoj Bhandage            20.0\n",
       "Mohammad Nabi              NaN\n",
       "Manish Pandey            240.0\n",
       "Mukesh Kumar             550.0\n",
       "Mujtaba Yousuf             NaN\n",
       "Mohammed Azharuddeen       NaN\n",
       "Mayank Agarwal           825.0\n",
       "Mayank Markande           50.0\n",
       "Mujeeb Ur Rahman           NaN\n",
       "Matheesha Pathirana       20.0\n",
       "Mukesh Choudhary          20.0\n",
       "Mark Wood                750.0\n",
       "Mustafizur Rahman        200.0\n",
       "Mitchell Santner         190.0\n",
       "Mayank Yadav              20.0\n",
       "Mohsin Khan               20.0\n",
       "Matthew Wade             240.0\n",
       "Mahipal Lomror            95.0\n",
       "Manan Vohra               20.0\n",
       "Maheesh Theekshana        70.0\n",
       "Mitchell Marsh           650.0\n",
       "Marco Jansen             420.0\n",
       "Mohd Arshad Khan          20.0\n",
       "Mohammed Shami           625.0\n",
       "Mohammed Siraj           700.0\n",
       "Marcus Stoinis           920.0\n",
       "MS Dhoni                1200.0\n",
       "Moeen Ali                800.0\n",
       "Name: final price (in lacs), dtype: float64"
      ]
     },
     "execution_count": 6,
     "metadata": {},
     "output_type": "execute_result"
    }
   ],
   "source": [
    "#filtering based on index level, filtering name starts with M\n",
    "s.filter(regex = '^M')"
   ]
  },
  {
   "cell_type": "code",
   "execution_count": 12,
   "id": "a87707b6-0d4a-4ec0-a913-4d9fe1702221",
   "metadata": {},
   "outputs": [
    {
     "data": {
      "text/plain": [
       "name\n",
       "Nitish Reddy            20.0\n",
       "Manish Pandey          240.0\n",
       "Reece Topley           190.0\n",
       "Mukesh Choudhary        20.0\n",
       "Praveen Dubey           50.0\n",
       "Obed McCoy              75.0\n",
       "Devon Conway           100.0\n",
       "Anukul Roy              20.0\n",
       "David Willey           200.0\n",
       "Varun Chakaravarthy    800.0\n",
       "Name: final price (in lacs), dtype: float64"
      ]
     },
     "execution_count": 12,
     "metadata": {},
     "output_type": "execute_result"
    }
   ],
   "source": [
    "#filtering based on index level, filtering name ends with 'y'\n",
    "s.filter(regex = 'y$')"
   ]
  },
  {
   "cell_type": "code",
   "execution_count": 16,
   "id": "d7d644b4-9bee-482d-b042-4345f10b6e91",
   "metadata": {},
   "outputs": [
    {
     "data": {
      "text/plain": [
       "name\n",
       "Prashant Chopra            NaN\n",
       "Mandeep Singh             50.0\n",
       "Murugan Ashwin            20.0\n",
       "Mohit Rathee              20.0\n",
       "Priyank Panchal            NaN\n",
       "Mohit Sharma              50.0\n",
       "Paul van Meekeren          NaN\n",
       "Prerak Mankad             20.0\n",
       "Mayank Dagar             180.0\n",
       "Manoj Bhandage            20.0\n",
       "Piyush Chawla             50.0\n",
       "Mohammad Nabi              NaN\n",
       "Manish Pandey            240.0\n",
       "Paul Stirling              NaN\n",
       "Mukesh Kumar             550.0\n",
       "Mujtaba Yousuf             NaN\n",
       "Mohammed Azharuddeen       NaN\n",
       "Priyam Garg                NaN\n",
       "Mayank Agarwal           825.0\n",
       "Mayank Markande           50.0\n",
       "Mujeeb Ur Rahman           NaN\n",
       "Philip Salt              200.0\n",
       "Matheesha Pathirana       20.0\n",
       "Mukesh Choudhary          20.0\n",
       "Praveen Dubey             50.0\n",
       "Mark Wood                750.0\n",
       "Prabhsimran Singh         60.0\n",
       "Mustafizur Rahman        200.0\n",
       "Mitchell Santner         190.0\n",
       "Prashant Solanki         120.0\n",
       "Mayank Yadav              20.0\n",
       "Pradeep Sangwan           20.0\n",
       "Mohsin Khan               20.0\n",
       "Prasidh Krishna         1000.0\n",
       "Matthew Wade             240.0\n",
       "Mahipal Lomror            95.0\n",
       "Manan Vohra               20.0\n",
       "Maheesh Theekshana        70.0\n",
       "Mitchell Marsh           650.0\n",
       "Marco Jansen             420.0\n",
       "Mohd Arshad Khan          20.0\n",
       "Mohammed Shami           625.0\n",
       "Mohammed Siraj           700.0\n",
       "Marcus Stoinis           920.0\n",
       "Prithvi Shaw             750.0\n",
       "MS Dhoni                1200.0\n",
       "Moeen Ali                800.0\n",
       "Name: final price (in lacs), dtype: float64"
      ]
     },
     "execution_count": 16,
     "metadata": {},
     "output_type": "execute_result"
    }
   ],
   "source": [
    "#filtering based on index level, filtering name starts with 'M' & 'P'\n",
    "s.filter(regex = '^[MP]')"
   ]
  },
  {
   "cell_type": "code",
   "execution_count": 20,
   "id": "149a791d-8846-4577-b45b-c77809874de0",
   "metadata": {},
   "outputs": [
    {
     "data": {
      "text/plain": [
       "name\n",
       "Joe Root             100.0\n",
       "Luke Wood              NaN\n",
       "Nicholas Pooran     1600.0\n",
       "Harry Brook         1325.0\n",
       "Deepak Hooda         575.0\n",
       "Fazalhaq Farooqi      50.0\n",
       "Mark Wood            750.0\n",
       "Noor Ahmad            30.0\n",
       "Josh Hazlewood       775.0\n",
       "Name: final price (in lacs), dtype: float64"
      ]
     },
     "execution_count": 20,
     "metadata": {},
     "output_type": "execute_result"
    }
   ],
   "source": [
    "#filter data using like keyword\n",
    "s.filter(like = 'oo')"
   ]
  },
  {
   "cell_type": "code",
   "execution_count": null,
   "id": "2ebfef33-3d44-436d-af00-c6bf9083148d",
   "metadata": {},
   "outputs": [],
   "source": []
  }
 ],
 "metadata": {
  "kernelspec": {
   "display_name": "Python 3 (ipykernel)",
   "language": "python",
   "name": "python3"
  },
  "language_info": {
   "codemirror_mode": {
    "name": "ipython",
    "version": 3
   },
   "file_extension": ".py",
   "mimetype": "text/x-python",
   "name": "python",
   "nbconvert_exporter": "python",
   "pygments_lexer": "ipython3",
   "version": "3.11.7"
  }
 },
 "nbformat": 4,
 "nbformat_minor": 5
}
