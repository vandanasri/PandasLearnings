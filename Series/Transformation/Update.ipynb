{
 "cells": [
  {
   "cell_type": "code",
   "execution_count": 60,
   "id": "ec3a64ed-7b5a-4a27-8701-879ff7947366",
   "metadata": {},
   "outputs": [
    {
     "data": {
      "text/plain": [
       "0    10.0\n",
       "1    20.0\n",
       "2    30.0\n",
       "3    40.0\n",
       "4    50.9\n",
       "dtype: float64"
      ]
     },
     "execution_count": 60,
     "metadata": {},
     "output_type": "execute_result"
    }
   ],
   "source": [
    "import pandas as pd\n",
    "import numpy as np\n",
    "\n",
    "s = pd.Series([10,20,30,40,50.9])\n",
    "s"
   ]
  },
  {
   "cell_type": "code",
   "execution_count": 62,
   "id": "5572c875-3885-48a6-b0d3-24334fe7698c",
   "metadata": {},
   "outputs": [
    {
     "data": {
      "text/plain": [
       "0     3.0\n",
       "1    50.0\n",
       "2    30.0\n",
       "3    40.0\n",
       "4    50.9\n",
       "dtype: float64"
      ]
     },
     "execution_count": 62,
     "metadata": {},
     "output_type": "execute_result"
    }
   ],
   "source": [
    "# updated first 2 elements of Series\n",
    "s.update([3,50.0])\n",
    "s"
   ]
  },
  {
   "cell_type": "code",
   "execution_count": 64,
   "id": "f26ef543-3b80-44d7-aa2f-78965608bdca",
   "metadata": {},
   "outputs": [
    {
     "data": {
      "text/plain": [
       "0    30\n",
       "1    40\n",
       "2    70\n",
       "3    80\n",
       "4    90\n",
       "dtype: int32"
      ]
     },
     "execution_count": 64,
     "metadata": {},
     "output_type": "execute_result"
    }
   ],
   "source": [
    "#new s2 Series\n",
    "s2 = pd.Series([30,40,70,80,90],dtype=int)\n",
    "s2"
   ]
  },
  {
   "cell_type": "code",
   "execution_count": 66,
   "id": "dcbfe18b-a92c-400f-bbee-ee2a1ef14e30",
   "metadata": {},
   "outputs": [
    {
     "data": {
      "text/plain": [
       "0    30.0\n",
       "1    40.0\n",
       "2    70.0\n",
       "3    80.0\n",
       "4    90.0\n",
       "dtype: float64"
      ]
     },
     "execution_count": 66,
     "metadata": {},
     "output_type": "execute_result"
    }
   ],
   "source": [
    "# update whole series\n",
    "s.update(s2)\n",
    "s"
   ]
  },
  {
   "cell_type": "code",
   "execution_count": 72,
   "id": "7e921b6d-53fc-4335-8f45-018ec090c9a3",
   "metadata": {},
   "outputs": [
    {
     "data": {
      "text/plain": [
       "0    400.0\n",
       "1    500.0\n",
       "2     70.0\n",
       "3    700.0\n",
       "4     90.0\n",
       "dtype: float64"
      ]
     },
     "execution_count": 72,
     "metadata": {},
     "output_type": "execute_result"
    }
   ],
   "source": [
    "# update using 'nan' \n",
    "s.update([400,500,np.nan,700])\n",
    "s"
   ]
  },
  {
   "cell_type": "code",
   "execution_count": 77,
   "id": "88dbe963-a03c-4278-b71b-9c805dddd93c",
   "metadata": {},
   "outputs": [
    {
     "data": {
      "text/plain": [
       "0    400.0\n",
       "1    500.0\n",
       "2    100.0\n",
       "3    700.0\n",
       "4    300.0\n",
       "dtype: float64"
      ]
     },
     "execution_count": 77,
     "metadata": {},
     "output_type": "execute_result"
    }
   ],
   "source": [
    "s.update(pd.Series([100,300], index=[2,4]))\n",
    "s"
   ]
  },
  {
   "cell_type": "code",
   "execution_count": 87,
   "id": "d55d6a41-a19e-4518-a4b5-07a9ffab3126",
   "metadata": {},
   "outputs": [
    {
     "data": {
      "text/plain": [
       "w    306\n",
       "r    406\n",
       "s    706\n",
       "t    806\n",
       "u    906\n",
       "dtype: int32"
      ]
     },
     "execution_count": 87,
     "metadata": {},
     "output_type": "execute_result"
    }
   ],
   "source": [
    "#new series with index\n",
    "s3 = pd.Series([306,406,706,806,906],index=['w','r','s','t','u'],dtype=int)\n",
    "s3"
   ]
  },
  {
   "cell_type": "code",
   "execution_count": 91,
   "id": "ef4d4270-968e-4a9b-bb15-c0dd28103249",
   "metadata": {},
   "outputs": [
    {
     "data": {
      "text/plain": [
       "0    400.0\n",
       "1    500.0\n",
       "2    100.0\n",
       "3    700.0\n",
       "4    300.0\n",
       "dtype: float64"
      ]
     },
     "execution_count": 91,
     "metadata": {},
     "output_type": "execute_result"
    }
   ],
   "source": [
    "#as index doesn't match the value doenot changed\n",
    "s.update(s3)\n",
    "s"
   ]
  },
  {
   "cell_type": "code",
   "execution_count": 95,
   "id": "4618c1a3-abb5-48af-9230-bdd817899896",
   "metadata": {},
   "outputs": [
    {
     "data": {
      "text/plain": [
       "0    400.0\n",
       "1    500.0\n",
       "2    109.0\n",
       "3    700.0\n",
       "4    309.0\n",
       "dtype: float64"
      ]
     },
     "execution_count": 95,
     "metadata": {},
     "output_type": "execute_result"
    }
   ],
   "source": [
    "#only matched value gets changed\n",
    "s.update(pd.Series([109,309,609,809], index=[2,4,6,7]))\n",
    "s"
   ]
  },
  {
   "cell_type": "code",
   "execution_count": null,
   "id": "46deb9f9-ef7d-4794-8e08-a3e0b9c0f4f9",
   "metadata": {},
   "outputs": [],
   "source": []
  }
 ],
 "metadata": {
  "kernelspec": {
   "display_name": "Python 3 (ipykernel)",
   "language": "python",
   "name": "python3"
  },
  "language_info": {
   "codemirror_mode": {
    "name": "ipython",
    "version": 3
   },
   "file_extension": ".py",
   "mimetype": "text/x-python",
   "name": "python",
   "nbconvert_exporter": "python",
   "pygments_lexer": "ipython3",
   "version": "3.11.7"
  }
 },
 "nbformat": 4,
 "nbformat_minor": 5
}
