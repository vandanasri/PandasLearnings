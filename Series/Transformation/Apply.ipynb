{
 "cells": [
  {
   "cell_type": "code",
   "execution_count": 29,
   "id": "713ba700-6bad-4d9f-ad87-8c9fda18a057",
   "metadata": {},
   "outputs": [
    {
     "data": {
      "text/plain": [
       "0    10.0\n",
       "1    20.0\n",
       "2    30.0\n",
       "3    40.0\n",
       "4    50.9\n",
       "dtype: float64"
      ]
     },
     "execution_count": 29,
     "metadata": {},
     "output_type": "execute_result"
    }
   ],
   "source": [
    "import pandas as pd\n",
    "import numpy as np\n",
    "\n",
    "s = pd.Series([10,20,30,40,50.9])\n",
    "s"
   ]
  },
  {
   "cell_type": "code",
   "execution_count": 31,
   "id": "ab429995-24ad-41fe-a52c-bea9b3b4617e",
   "metadata": {},
   "outputs": [
    {
     "data": {
      "text/plain": [
       "0     100.00\n",
       "1     400.00\n",
       "2     900.00\n",
       "3    1600.00\n",
       "4    2590.81\n",
       "dtype: float64"
      ]
     },
     "execution_count": 31,
     "metadata": {},
     "output_type": "execute_result"
    }
   ],
   "source": [
    "s.apply(lambda x: x**2)"
   ]
  },
  {
   "cell_type": "code",
   "execution_count": 33,
   "id": "453f5dde-0fb2-4bb2-a4b3-6f098e9699dc",
   "metadata": {},
   "outputs": [],
   "source": [
    "#created method\n",
    "def add(x,value):\n",
    "    return x+value"
   ]
  },
  {
   "cell_type": "code",
   "execution_count": 35,
   "id": "dee992d3-41f2-4ebb-b662-ddf6197e570f",
   "metadata": {},
   "outputs": [
    {
     "data": {
      "text/plain": [
       "0    30.0\n",
       "1    40.0\n",
       "2    50.0\n",
       "3    60.0\n",
       "4    70.9\n",
       "dtype: float64"
      ]
     },
     "execution_count": 35,
     "metadata": {},
     "output_type": "execute_result"
    }
   ],
   "source": [
    "#apply using method\n",
    "s.apply(add,args=(20,))"
   ]
  },
  {
   "cell_type": "code",
   "execution_count": 37,
   "id": "40be811b-6c62-4af6-bdf9-578c11fcc63d",
   "metadata": {},
   "outputs": [
    {
     "data": {
      "text/plain": [
       "0    20.0\n",
       "1    30.0\n",
       "2    40.0\n",
       "3    50.0\n",
       "4    60.9\n",
       "dtype: float64"
      ]
     },
     "execution_count": 37,
     "metadata": {},
     "output_type": "execute_result"
    }
   ],
   "source": [
    "#apply using method\n",
    "s.apply(add,value = 10)"
   ]
  },
  {
   "cell_type": "code",
   "execution_count": 43,
   "id": "b1ec8cbf-5ed5-48e2-88e0-01bc3125436d",
   "metadata": {},
   "outputs": [
    {
     "data": {
      "text/plain": [
       "0     100.00\n",
       "1     400.00\n",
       "2     900.00\n",
       "3    1600.00\n",
       "4    2590.81\n",
       "dtype: float64"
      ]
     },
     "execution_count": 43,
     "metadata": {},
     "output_type": "execute_result"
    }
   ],
   "source": [
    "#apply using method\n",
    "s.apply(np.square)"
   ]
  }
 ],
 "metadata": {
  "kernelspec": {
   "display_name": "Python 3 (ipykernel)",
   "language": "python",
   "name": "python3"
  },
  "language_info": {
   "codemirror_mode": {
    "name": "ipython",
    "version": 3
   },
   "file_extension": ".py",
   "mimetype": "text/x-python",
   "name": "python",
   "nbconvert_exporter": "python",
   "pygments_lexer": "ipython3",
   "version": "3.11.7"
  }
 },
 "nbformat": 4,
 "nbformat_minor": 5
}
