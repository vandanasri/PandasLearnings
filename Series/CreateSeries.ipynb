{
 "cells": [
  {
   "cell_type": "code",
   "execution_count": 54,
   "id": "b04f0696-f254-461d-b18b-edc26ca5da17",
   "metadata": {},
   "outputs": [],
   "source": [
    "import pandas as pd\n",
    "import numpy as np"
   ]
  },
  {
   "cell_type": "code",
   "execution_count": 16,
   "id": "430ae260-a138-4358-abdd-ed01fd6e64e9",
   "metadata": {},
   "outputs": [
    {
     "data": {
      "text/plain": [
       "0      English\n",
       "1        Maths\n",
       "2    Computers\n",
       "3      Science\n",
       "dtype: object"
      ]
     },
     "execution_count": 16,
     "metadata": {},
     "output_type": "execute_result"
    }
   ],
   "source": [
    "#create Series with String\n",
    "l = ['English','Maths','Computers','Science']\n",
    "p = pd.Series(l)\n",
    "p"
   ]
  },
  {
   "cell_type": "code",
   "execution_count": 18,
   "id": "634b61fb-3645-4be8-ae2a-6ecabcaa4a6f",
   "metadata": {},
   "outputs": [
    {
     "data": {
      "text/plain": [
       "0    10\n",
       "1    20\n",
       "2    30\n",
       "3    40\n",
       "4    50\n",
       "dtype: int64"
      ]
     },
     "execution_count": 18,
     "metadata": {},
     "output_type": "execute_result"
    }
   ],
   "source": [
    "#create Series with int\n",
    "ln = [10,20,30,40,50]\n",
    "pn = pd.Series(ln)\n",
    "pn"
   ]
  },
  {
   "cell_type": "code",
   "execution_count": 42,
   "id": "ca248be9-52ae-40ff-a78c-55399558a1a9",
   "metadata": {},
   "outputs": [
    {
     "data": {
      "text/plain": [
       "0    10.50\n",
       "1    20.66\n",
       "2    30.00\n",
       "3    40.67\n",
       "4    50.40\n",
       "dtype: float64"
      ]
     },
     "execution_count": 42,
     "metadata": {},
     "output_type": "execute_result"
    }
   ],
   "source": [
    "#create Series with float with data argument\n",
    "lf = [10.5,20.66,30.0,40.67,50.4]\n",
    "pf = pd.Series(data = lf)\n",
    "pf"
   ]
  },
  {
   "cell_type": "code",
   "execution_count": 44,
   "id": "44d17618-a5f4-4053-8845-84512fefd406",
   "metadata": {},
   "outputs": [
    {
     "data": {
      "text/plain": [
       "Sub-01      English\n",
       "Sub-02        Maths\n",
       "Sub-03    Computers\n",
       "Sub04       Science\n",
       "dtype: object"
      ]
     },
     "execution_count": 44,
     "metadata": {},
     "output_type": "execute_result"
    }
   ],
   "source": [
    "#create Series with dictonary where default label gets changed\n",
    "d = {'Sub-01':'English','Sub-02':'Maths','Sub-03':'Computers','Sub04':'Science'}\n",
    "p = pd.Series(d)\n",
    "p"
   ]
  },
  {
   "cell_type": "code",
   "execution_count": 46,
   "id": "1023bc48-ff96-4201-9220-5473d0ab5a53",
   "metadata": {},
   "outputs": [
    {
     "data": {
      "text/plain": [
       "9             10.67\n",
       "Sub-02        Maths\n",
       "Sub-03    Computers\n",
       "True            900\n",
       "dtype: object"
      ]
     },
     "execution_count": 46,
     "metadata": {},
     "output_type": "execute_result"
    }
   ],
   "source": [
    "#create Series with dictonary hetrogeneous object\n",
    "dh = {9:10.67,'Sub-02':'Maths','Sub-03':'Computers',True:900}\n",
    "ph = pd.Series(dh)\n",
    "ph"
   ]
  },
  {
   "cell_type": "code",
   "execution_count": 52,
   "id": "d947612d-b183-477f-8d36-c15d12242d3f",
   "metadata": {},
   "outputs": [
    {
     "data": {
      "text/plain": [
       "0    100\n",
       "dtype: int64"
      ]
     },
     "execution_count": 52,
     "metadata": {},
     "output_type": "execute_result"
    }
   ],
   "source": [
    "#create Series single value\n",
    "s = pd.Series(100)\n",
    "s"
   ]
  },
  {
   "cell_type": "code",
   "execution_count": 60,
   "id": "e0274e29-c62c-4f06-bf5d-71afd81d8bce",
   "metadata": {},
   "outputs": [
    {
     "data": {
      "text/plain": [
       "0    10\n",
       "1    20\n",
       "2    30\n",
       "3    40\n",
       "4    50\n",
       "dtype: int32"
      ]
     },
     "execution_count": 60,
     "metadata": {},
     "output_type": "execute_result"
    }
   ],
   "source": [
    "#create Series with nd array\n",
    "nd = np.array([10,20,30,40,50])\n",
    "ps = pd.Series(nd)\n",
    "ps"
   ]
  },
  {
   "cell_type": "code",
   "execution_count": null,
   "id": "d9b1d353-0c7a-4a25-b563-71377898d8c8",
   "metadata": {},
   "outputs": [],
   "source": []
  }
 ],
 "metadata": {
  "kernelspec": {
   "display_name": "Python 3 (ipykernel)",
   "language": "python",
   "name": "python3"
  },
  "language_info": {
   "codemirror_mode": {
    "name": "ipython",
    "version": 3
   },
   "file_extension": ".py",
   "mimetype": "text/x-python",
   "name": "python",
   "nbconvert_exporter": "python",
   "pygments_lexer": "ipython3",
   "version": "3.11.7"
  }
 },
 "nbformat": 4,
 "nbformat_minor": 5
}
