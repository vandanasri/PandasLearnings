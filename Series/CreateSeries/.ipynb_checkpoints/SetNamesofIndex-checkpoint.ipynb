{
 "cells": [
  {
   "cell_type": "code",
   "execution_count": 2,
   "id": "a808cdff-a73c-4f30-96ad-38ae7d62483b",
   "metadata": {},
   "outputs": [],
   "source": [
    "import pandas as pd\n",
    "import numpy as np"
   ]
  },
  {
   "cell_type": "code",
   "execution_count": 5,
   "id": "21fc98b6-2f8b-4e97-9c27-89d1646b1435",
   "metadata": {},
   "outputs": [
    {
     "data": {
      "text/plain": [
       "Sub-01      English\n",
       "Sub-02        Maths\n",
       "Sub-03    Computers\n",
       "Sub04       Science\n",
       "Name: Subject in Class, dtype: string"
      ]
     },
     "execution_count": 5,
     "metadata": {},
     "output_type": "execute_result"
    }
   ],
   "source": [
    "#create Series with dictonary and cahnge deafault name = none to  'Subject in Class'\n",
    "dn = {'Sub-01':'English','Sub-02':'Maths','Sub-03':'Computers','Sub04':'Science'}\n",
    "pn = pd.Series(dn, dtype ='string', name ='Subject in Class')\n",
    "pn"
   ]
  },
  {
   "cell_type": "code",
   "execution_count": 8,
   "id": "4410d4be-8843-484c-8ef8-c13e4c2c8632",
   "metadata": {},
   "outputs": [
    {
     "data": {
      "text/plain": [
       "Sub-01      English\n",
       "Sub-02        Maths\n",
       "Sub-03    Computers\n",
       "Sub04       Science\n",
       "Name: Subject in Class, dtype: string"
      ]
     },
     "execution_count": 8,
     "metadata": {},
     "output_type": "execute_result"
    }
   ],
   "source": [
    "#another way to set names\n",
    "dno = {'Sub-01':'English','Sub-02':'Maths','Sub-03':'Computers','Sub04':'Science'}\n",
    "pno = pd.Series(dno, dtype ='string')\n",
    "pno.name ='Subject in Class'\n",
    "pno"
   ]
  },
  {
   "cell_type": "code",
   "execution_count": 18,
   "id": "c9501fd4-0950-4832-bde2-ae9ff6f4af7f",
   "metadata": {},
   "outputs": [
    {
     "data": {
      "text/plain": [
       "Subject Serial No.\n",
       "Sub-01      English\n",
       "Sub-02        Maths\n",
       "Sub-03    Computers\n",
       "Sub04       Science\n",
       "Name: There are Four Subjects, dtype: string"
      ]
     },
     "execution_count": 18,
     "metadata": {},
     "output_type": "execute_result"
    }
   ],
   "source": [
    "# Set Names for indexes\n",
    "pn.name = 'There are Four Subjects'\n",
    "pn.index.name = 'Subject Serial No.'\n",
    "pn"
   ]
  },
  {
   "cell_type": "code",
   "execution_count": null,
   "id": "b00b2e07-4ef7-496c-b0d6-1c94e91f068b",
   "metadata": {},
   "outputs": [],
   "source": []
  }
 ],
 "metadata": {
  "kernelspec": {
   "display_name": "Python 3 (ipykernel)",
   "language": "python",
   "name": "python3"
  },
  "language_info": {
   "codemirror_mode": {
    "name": "ipython",
    "version": 3
   },
   "file_extension": ".py",
   "mimetype": "text/x-python",
   "name": "python",
   "nbconvert_exporter": "python",
   "pygments_lexer": "ipython3",
   "version": "3.11.7"
  }
 },
 "nbformat": 4,
 "nbformat_minor": 5
}
