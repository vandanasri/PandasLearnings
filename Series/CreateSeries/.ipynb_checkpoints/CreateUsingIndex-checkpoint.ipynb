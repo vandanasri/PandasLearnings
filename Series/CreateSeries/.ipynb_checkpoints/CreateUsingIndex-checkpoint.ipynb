{
 "cells": [
  {
   "cell_type": "code",
   "execution_count": 2,
   "id": "c9e1bdc8-8421-4faa-91e1-762691dccb87",
   "metadata": {},
   "outputs": [],
   "source": [
    "import pandas as pd\n",
    "import numpy as np"
   ]
  },
  {
   "cell_type": "code",
   "execution_count": 5,
   "id": "ca93089a-b264-4dad-a377-7c1f38021ac0",
   "metadata": {},
   "outputs": [
    {
     "data": {
      "text/plain": [
       "A    10\n",
       "B    20\n",
       "C    30\n",
       "D    40\n",
       "A    50\n",
       "dtype: int32"
      ]
     },
     "execution_count": 5,
     "metadata": {},
     "output_type": "execute_result"
    }
   ],
   "source": [
    "#create Series with nd array using index parameter\n",
    "nd = np.array([10,20,30,40,50])\n",
    "ind = np.array(['A','B','C','D','A'])\n",
    "ps = pd.Series(data=nd, index = ind)\n",
    "ps"
   ]
  },
  {
   "cell_type": "code",
   "execution_count": 9,
   "id": "d39d652b-ed64-4fc3-a957-f7d046d68d70",
   "metadata": {},
   "outputs": [
    {
     "data": {
      "text/plain": [
       "Sub-01      English\n",
       "Sub-03    Computers\n",
       "Sub-03    Computers\n",
       "dtype: object"
      ]
     },
     "execution_count": 9,
     "metadata": {},
     "output_type": "execute_result"
    }
   ],
   "source": [
    "#Index with Dictinary - only matched index will be considered from the dictionary\n",
    "di = {'Sub-01':'English','Sub-02':'Maths','Sub-03':'Computers','Sub-04':'Science'}\n",
    "pi = pd.Series(di, index = ['Sub-01','Sub-03','Sub-03'])\n",
    "pi"
   ]
  },
  {
   "cell_type": "code",
   "execution_count": 11,
   "id": "35d3e445-75f0-4d65-82b2-4f49e172d8e2",
   "metadata": {},
   "outputs": [
    {
     "data": {
      "text/plain": [
       "A    NaN\n",
       "B    NaN\n",
       "C    NaN\n",
       "D    NaN\n",
       "A    NaN\n",
       "dtype: object"
      ]
     },
     "execution_count": 11,
     "metadata": {},
     "output_type": "execute_result"
    }
   ],
   "source": [
    "# if index doesn't match the NaN value will be shown\n",
    "dc = {'Sub-01':'English','Sub-02':'Maths','Sub-03':'Computers','Sub-04':'Science'}\n",
    "pc = pd.Series(dc, index = ['A','B','C','D','A'])\n",
    "pc"
   ]
  },
  {
   "cell_type": "code",
   "execution_count": 15,
   "id": "d0a705d0-a32c-4897-b7ae-737ad7ae4d2d",
   "metadata": {},
   "outputs": [
    {
     "data": {
      "text/plain": [
       "D               NaN\n",
       "Sub-03    Computers\n",
       "Sub-03    Computers\n",
       "A               NaN\n",
       "Sub-01      English\n",
       "dtype: object"
      ]
     },
     "execution_count": 15,
     "metadata": {},
     "output_type": "execute_result"
    }
   ],
   "source": [
    "# if index doesn't match the NaN value will be shown\n",
    "dv = {'Sub-01':'English','Sub-02':'Maths','Sub-03':'Computers','Sub-04':'Science'}\n",
    "pv = pd.Series(dv, index = ['D','Sub-03','Sub-03','A','Sub-01'])\n",
    "pv"
   ]
  },
  {
   "cell_type": "code",
   "execution_count": 29,
   "id": "6e32dd9b-cd60-4ba8-a5cc-f17f7ead2311",
   "metadata": {},
   "outputs": [
    {
     "name": "stdout",
     "output_type": "stream",
     "text": [
      "RangeIndex(start=0, stop=4, step=1)\n"
     ]
    },
    {
     "data": {
      "text/plain": [
       "0      English\n",
       "1        Maths\n",
       "2    Computers\n",
       "3      Science\n",
       "dtype: object"
      ]
     },
     "execution_count": 29,
     "metadata": {},
     "output_type": "execute_result"
    }
   ],
   "source": [
    "# get default Range Index\n",
    "l = ['English','Maths','Computers','Science']\n",
    "p = pd.Series(l)\n",
    "print(p.index)\n",
    "p"
   ]
  },
  {
   "cell_type": "code",
   "execution_count": 31,
   "id": "0d5c225a-2bd1-41c4-b826-31ab0d954539",
   "metadata": {},
   "outputs": [
    {
     "name": "stdout",
     "output_type": "stream",
     "text": [
      "RangeIndex(start=20, stop=24, step=1)\n"
     ]
    },
    {
     "data": {
      "text/plain": [
       "20      English\n",
       "21        Maths\n",
       "22    Computers\n",
       "23      Science\n",
       "dtype: object"
      ]
     },
     "execution_count": 31,
     "metadata": {},
     "output_type": "execute_result"
    }
   ],
   "source": [
    "#Customize Range Index\n",
    "li = ['English','Maths','Computers','Science']\n",
    "pi = pd.Series(li)\n",
    "pi.index = pd.RangeIndex(20,24,1)\n",
    "print(pi.index)\n",
    "pi"
   ]
  },
  {
   "cell_type": "code",
   "execution_count": null,
   "id": "44a9ee23-c765-4fef-9ca4-aa777ac81c17",
   "metadata": {},
   "outputs": [],
   "source": []
  }
 ],
 "metadata": {
  "kernelspec": {
   "display_name": "Python 3 (ipykernel)",
   "language": "python",
   "name": "python3"
  },
  "language_info": {
   "codemirror_mode": {
    "name": "ipython",
    "version": 3
   },
   "file_extension": ".py",
   "mimetype": "text/x-python",
   "name": "python",
   "nbconvert_exporter": "python",
   "pygments_lexer": "ipython3",
   "version": "3.11.7"
  }
 },
 "nbformat": 4,
 "nbformat_minor": 5
}
