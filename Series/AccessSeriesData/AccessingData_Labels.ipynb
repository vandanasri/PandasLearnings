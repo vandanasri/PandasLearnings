{
 "cells": [
  {
   "cell_type": "code",
   "execution_count": 3,
   "id": "8aacf2ab-a23d-4ffe-af1f-6ee35d7e2427",
   "metadata": {},
   "outputs": [],
   "source": [
    "import pandas as pd\n",
    "import numpy as np"
   ]
  },
  {
   "cell_type": "code",
   "execution_count": 5,
   "id": "da35a68e-db8d-4f2c-aa23-6fe3fb600c8e",
   "metadata": {},
   "outputs": [
    {
     "data": {
      "text/plain": [
       "0      1\n",
       "1      3\n",
       "2      5\n",
       "3      7\n",
       "4      9\n",
       "5     11\n",
       "6     13\n",
       "7     15\n",
       "8     17\n",
       "9     19\n",
       "10    21\n",
       "11    23\n",
       "12    25\n",
       "13    27\n",
       "14    29\n",
       "15    31\n",
       "16    33\n",
       "17    35\n",
       "18    37\n",
       "19    39\n",
       "dtype: int32"
      ]
     },
     "execution_count": 5,
     "metadata": {},
     "output_type": "execute_result"
    }
   ],
   "source": [
    "l = np.arange(1,40,2)\n",
    "s = pd.Series(l)\n",
    "s"
   ]
  },
  {
   "cell_type": "code",
   "execution_count": 7,
   "id": "177e7a5c-0c2d-493a-99c3-3aa19b9fd11c",
   "metadata": {},
   "outputs": [
    {
     "data": {
      "text/plain": [
       "Label_0      1\n",
       "Label_1      3\n",
       "Label_2      5\n",
       "Label_3      7\n",
       "Label_4      9\n",
       "Label_5     11\n",
       "Label_6     13\n",
       "Label_7     15\n",
       "Label_8     17\n",
       "Label_9     19\n",
       "Label_10    21\n",
       "Label_11    23\n",
       "Label_12    25\n",
       "Label_13    27\n",
       "Label_14    29\n",
       "Label_15    31\n",
       "Label_16    33\n",
       "Label_17    35\n",
       "Label_18    37\n",
       "Label_19    39\n",
       "dtype: int32"
      ]
     },
     "execution_count": 7,
     "metadata": {},
     "output_type": "execute_result"
    }
   ],
   "source": [
    "#adding label dynamically\n",
    "s=s.add_prefix('Label_')\n",
    "s"
   ]
  },
  {
   "cell_type": "code",
   "execution_count": 9,
   "id": "37864a65-1101-46cb-88c8-56464b2ee166",
   "metadata": {},
   "outputs": [
    {
     "data": {
      "text/plain": [
       "19"
      ]
     },
     "execution_count": 9,
     "metadata": {},
     "output_type": "execute_result"
    }
   ],
   "source": [
    "#accessing data of label 'Label_9'\n",
    "s['Label_9']"
   ]
  },
  {
   "cell_type": "code",
   "execution_count": 11,
   "id": "e801d47b-e706-4126-8e4a-fa3becb277be",
   "metadata": {},
   "outputs": [
    {
     "data": {
      "text/plain": [
       "Label_9     19\n",
       "Label_1      3\n",
       "Label_17    35\n",
       "dtype: int32"
      ]
     },
     "execution_count": 11,
     "metadata": {},
     "output_type": "execute_result"
    }
   ],
   "source": [
    "s[['Label_9','Label_1','Label_17']]"
   ]
  },
  {
   "cell_type": "code",
   "execution_count": null,
   "id": "38ef02bb-b4e1-40f0-a4bb-3d0f7ab354a8",
   "metadata": {},
   "outputs": [],
   "source": []
  }
 ],
 "metadata": {
  "kernelspec": {
   "display_name": "Python 3 (ipykernel)",
   "language": "python",
   "name": "python3"
  },
  "language_info": {
   "codemirror_mode": {
    "name": "ipython",
    "version": 3
   },
   "file_extension": ".py",
   "mimetype": "text/x-python",
   "name": "python",
   "nbconvert_exporter": "python",
   "pygments_lexer": "ipython3",
   "version": "3.11.7"
  }
 },
 "nbformat": 4,
 "nbformat_minor": 5
}
