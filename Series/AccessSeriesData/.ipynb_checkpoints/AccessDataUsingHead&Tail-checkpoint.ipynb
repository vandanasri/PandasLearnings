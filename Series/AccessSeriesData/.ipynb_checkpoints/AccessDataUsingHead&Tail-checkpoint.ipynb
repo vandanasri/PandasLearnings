{
 "cells": [
  {
   "cell_type": "code",
   "execution_count": 8,
   "id": "fc8be22e-e877-4cb2-bdaf-d59b70d06a34",
   "metadata": {},
   "outputs": [],
   "source": [
    "import pandas as pd\n",
    "import numpy as np"
   ]
  },
  {
   "cell_type": "code",
   "execution_count": 10,
   "id": "56a51799-793a-4267-9b38-c0cfb822771e",
   "metadata": {},
   "outputs": [
    {
     "data": {
      "text/plain": [
       "0      1\n",
       "1      3\n",
       "2      5\n",
       "3      7\n",
       "4      9\n",
       "5     11\n",
       "6     13\n",
       "7     15\n",
       "8     17\n",
       "9     19\n",
       "10    21\n",
       "11    23\n",
       "12    25\n",
       "13    27\n",
       "14    29\n",
       "15    31\n",
       "16    33\n",
       "17    35\n",
       "18    37\n",
       "19    39\n",
       "dtype: int32"
      ]
     },
     "execution_count": 10,
     "metadata": {},
     "output_type": "execute_result"
    }
   ],
   "source": [
    "l = np.arange(1,40,2)\n",
    "s = pd.Series(l)\n",
    "s"
   ]
  },
  {
   "cell_type": "code",
   "execution_count": 12,
   "id": "8925da33-ce7b-4edf-bdc2-a65dce055a8a",
   "metadata": {},
   "outputs": [
    {
     "data": {
      "text/plain": [
       "0     1\n",
       "1     3\n",
       "2     5\n",
       "3     7\n",
       "4     9\n",
       "5    11\n",
       "6    13\n",
       "7    15\n",
       "8    17\n",
       "9    19\n",
       "dtype: int32"
      ]
     },
     "execution_count": 12,
     "metadata": {},
     "output_type": "execute_result"
    }
   ],
   "source": [
    "# access first 10 data\n",
    "s.head(10)"
   ]
  },
  {
   "cell_type": "code",
   "execution_count": 14,
   "id": "2b453168-15f8-49a5-a415-000e52c31289",
   "metadata": {},
   "outputs": [
    {
     "data": {
      "text/plain": [
       "0      1\n",
       "1      3\n",
       "2      5\n",
       "3      7\n",
       "4      9\n",
       "5     11\n",
       "6     13\n",
       "7     15\n",
       "8     17\n",
       "9     19\n",
       "10    21\n",
       "11    23\n",
       "12    25\n",
       "13    27\n",
       "dtype: int32"
      ]
     },
     "execution_count": 14,
     "metadata": {},
     "output_type": "execute_result"
    }
   ],
   "source": [
    "# access data by passing negative value\n",
    "s.head(-6)"
   ]
  },
  {
   "cell_type": "code",
   "execution_count": 16,
   "id": "25ed4837-03f4-4101-b4da-8330edeacf74",
   "metadata": {},
   "outputs": [
    {
     "data": {
      "text/plain": [
       "10    21\n",
       "11    23\n",
       "12    25\n",
       "13    27\n",
       "14    29\n",
       "15    31\n",
       "16    33\n",
       "17    35\n",
       "18    37\n",
       "19    39\n",
       "dtype: int32"
      ]
     },
     "execution_count": 16,
     "metadata": {},
     "output_type": "execute_result"
    }
   ],
   "source": [
    "# access last 10 data\n",
    "s.tail(10)"
   ]
  },
  {
   "cell_type": "code",
   "execution_count": 18,
   "id": "f617037e-165f-4f2b-b805-bce85893deb2",
   "metadata": {},
   "outputs": [
    {
     "data": {
      "text/plain": [
       "6     13\n",
       "7     15\n",
       "8     17\n",
       "9     19\n",
       "10    21\n",
       "11    23\n",
       "12    25\n",
       "13    27\n",
       "14    29\n",
       "15    31\n",
       "16    33\n",
       "17    35\n",
       "18    37\n",
       "19    39\n",
       "dtype: int32"
      ]
     },
     "execution_count": 18,
     "metadata": {},
     "output_type": "execute_result"
    }
   ],
   "source": [
    "# access data by passing negative value\n",
    "s.tail(-6)"
   ]
  },
  {
   "cell_type": "code",
   "execution_count": 20,
   "id": "259e5370-08e4-4b99-baba-f47e5ef617bd",
   "metadata": {},
   "outputs": [
    {
     "data": {
      "text/plain": [
       "11    23\n",
       "12    25\n",
       "13    27\n",
       "14    29\n",
       "dtype: int32"
      ]
     },
     "execution_count": 20,
     "metadata": {},
     "output_type": "execute_result"
    }
   ],
   "source": [
    "#access values between 12 to 15\n",
    "s.head(15).tail(4)"
   ]
  },
  {
   "cell_type": "code",
   "execution_count": null,
   "id": "95c7e5a6-47c9-4ba6-84a6-7cce7d618b42",
   "metadata": {},
   "outputs": [],
   "source": []
  },
  {
   "cell_type": "code",
   "execution_count": null,
   "id": "88e861e5-a4ef-4c7a-975d-2df71c563d31",
   "metadata": {},
   "outputs": [],
   "source": []
  }
 ],
 "metadata": {
  "kernelspec": {
   "display_name": "Python 3 (ipykernel)",
   "language": "python",
   "name": "python3"
  },
  "language_info": {
   "codemirror_mode": {
    "name": "ipython",
    "version": 3
   },
   "file_extension": ".py",
   "mimetype": "text/x-python",
   "name": "python",
   "nbconvert_exporter": "python",
   "pygments_lexer": "ipython3",
   "version": "3.11.7"
  }
 },
 "nbformat": 4,
 "nbformat_minor": 5
}
