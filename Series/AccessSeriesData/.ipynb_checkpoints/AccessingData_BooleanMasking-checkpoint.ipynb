{
 "cells": [
  {
   "cell_type": "code",
   "execution_count": 6,
   "id": "8aacf2ab-a23d-4ffe-af1f-6ee35d7e2427",
   "metadata": {},
   "outputs": [],
   "source": [
    "import pandas as pd\n",
    "import numpy as np"
   ]
  },
  {
   "cell_type": "code",
   "execution_count": 8,
   "id": "da35a68e-db8d-4f2c-aa23-6fe3fb600c8e",
   "metadata": {},
   "outputs": [
    {
     "data": {
      "text/plain": [
       "0    1\n",
       "1    3\n",
       "2    5\n",
       "3    7\n",
       "4    9\n",
       "dtype: int32"
      ]
     },
     "execution_count": 8,
     "metadata": {},
     "output_type": "execute_result"
    }
   ],
   "source": [
    "l = np.arange(1,10,2)\n",
    "s = pd.Series(l)\n",
    "s"
   ]
  },
  {
   "cell_type": "code",
   "execution_count": 10,
   "id": "177e7a5c-0c2d-493a-99c3-3aa19b9fd11c",
   "metadata": {},
   "outputs": [
    {
     "data": {
      "text/plain": [
       "Label_0    1\n",
       "Label_1    3\n",
       "Label_2    5\n",
       "Label_3    7\n",
       "Label_4    9\n",
       "dtype: int32"
      ]
     },
     "execution_count": 10,
     "metadata": {},
     "output_type": "execute_result"
    }
   ],
   "source": [
    "#adding label dynamically\n",
    "s=s.add_prefix('Label_')\n",
    "s"
   ]
  },
  {
   "cell_type": "code",
   "execution_count": 24,
   "id": "37864a65-1101-46cb-88c8-56464b2ee166",
   "metadata": {},
   "outputs": [
    {
     "data": {
      "text/plain": [
       "Label_0    1\n",
       "Label_2    5\n",
       "Label_3    7\n",
       "dtype: int32"
      ]
     },
     "execution_count": 24,
     "metadata": {},
     "output_type": "execute_result"
    }
   ],
   "source": [
    "#the number of valuesin series and the boolean argument  must be matched\n",
    "#using normal indexing\n",
    "s[[True,False,True,True,False]]"
   ]
  },
  {
   "cell_type": "code",
   "execution_count": 26,
   "id": "e801d47b-e706-4126-8e4a-fa3becb277be",
   "metadata": {},
   "outputs": [
    {
     "data": {
      "text/plain": [
       "Label_0    1\n",
       "Label_1    3\n",
       "Label_2    5\n",
       "Label_3    7\n",
       "Label_4    9\n",
       "dtype: int32"
      ]
     },
     "execution_count": 26,
     "metadata": {},
     "output_type": "execute_result"
    }
   ],
   "source": [
    "#using loc\n",
    "s.loc[[True,True,True,True,True]]"
   ]
  },
  {
   "cell_type": "code",
   "execution_count": 28,
   "id": "38ef02bb-b4e1-40f0-a4bb-3d0f7ab354a8",
   "metadata": {},
   "outputs": [
    {
     "data": {
      "text/plain": [
       "Label_0    1\n",
       "Label_2    5\n",
       "Label_3    7\n",
       "dtype: int32"
      ]
     },
     "execution_count": 28,
     "metadata": {},
     "output_type": "execute_result"
    }
   ],
   "source": [
    "#using iloc\n",
    "s.iloc[[True,False,True,True,False]]"
   ]
  },
  {
   "cell_type": "code",
   "execution_count": 30,
   "id": "b2b41357-6057-4b48-9263-584f5925b716",
   "metadata": {},
   "outputs": [
    {
     "data": {
      "text/plain": [
       "Label_0    1\n",
       "Label_3    7\n",
       "dtype: int32"
      ]
     },
     "execution_count": 30,
     "metadata": {},
     "output_type": "execute_result"
    }
   ],
   "source": [
    "#using get\n",
    "s.get([True,False,False,True,False])"
   ]
  },
  {
   "cell_type": "code",
   "execution_count": 38,
   "id": "82838adc-5712-41cf-9486-2c23a86d09b2",
   "metadata": {},
   "outputs": [
    {
     "data": {
      "text/plain": [
       "Label_0    False\n",
       "Label_1    False\n",
       "Label_2    False\n",
       "Label_3     True\n",
       "Label_4     True\n",
       "dtype: bool"
      ]
     },
     "execution_count": 38,
     "metadata": {},
     "output_type": "execute_result"
    }
   ],
   "source": [
    "# creating boolean array is a problem for large data so we use condition\n",
    "s>5"
   ]
  },
  {
   "cell_type": "code",
   "execution_count": 40,
   "id": "e001a13f-f400-4788-8682-cb33b6d867b0",
   "metadata": {},
   "outputs": [
    {
     "data": {
      "text/plain": [
       "Label_3    7\n",
       "Label_4    9\n",
       "dtype: int32"
      ]
     },
     "execution_count": 40,
     "metadata": {},
     "output_type": "execute_result"
    }
   ],
   "source": [
    "# using above condition\n",
    "s[s>5]"
   ]
  },
  {
   "cell_type": "code",
   "execution_count": 42,
   "id": "9b0481fc-869d-4f53-bb02-9bf963330e70",
   "metadata": {},
   "outputs": [
    {
     "data": {
      "text/plain": [
       "Label_0    1\n",
       "Label_2    5\n",
       "Label_3    7\n",
       "dtype: int32"
      ]
     },
     "execution_count": 42,
     "metadata": {},
     "output_type": "execute_result"
    }
   ],
   "source": [
    "# values which are not divisible by 3\n",
    "s[s%3 !=0]"
   ]
  },
  {
   "cell_type": "code",
   "execution_count": null,
   "id": "1d6b6e87-73f6-4042-a63b-e35b8493f0de",
   "metadata": {},
   "outputs": [],
   "source": []
  }
 ],
 "metadata": {
  "kernelspec": {
   "display_name": "Python 3 (ipykernel)",
   "language": "python",
   "name": "python3"
  },
  "language_info": {
   "codemirror_mode": {
    "name": "ipython",
    "version": 3
   },
   "file_extension": ".py",
   "mimetype": "text/x-python",
   "name": "python",
   "nbconvert_exporter": "python",
   "pygments_lexer": "ipython3",
   "version": "3.11.7"
  }
 },
 "nbformat": 4,
 "nbformat_minor": 5
}
