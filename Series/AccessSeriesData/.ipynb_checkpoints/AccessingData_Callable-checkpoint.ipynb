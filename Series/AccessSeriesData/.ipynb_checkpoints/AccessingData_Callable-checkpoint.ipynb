{
 "cells": [
  {
   "cell_type": "code",
   "execution_count": 4,
   "id": "8aacf2ab-a23d-4ffe-af1f-6ee35d7e2427",
   "metadata": {},
   "outputs": [],
   "source": [
    "import pandas as pd\n",
    "import numpy as np"
   ]
  },
  {
   "cell_type": "code",
   "execution_count": 13,
   "id": "da35a68e-db8d-4f2c-aa23-6fe3fb600c8e",
   "metadata": {},
   "outputs": [
    {
     "data": {
      "text/plain": [
       "Label_0      1\n",
       "Label_1      3\n",
       "Label_2      5\n",
       "Label_3      7\n",
       "Label_4      9\n",
       "Label_5     11\n",
       "Label_6     13\n",
       "Label_7     15\n",
       "Label_8     17\n",
       "Label_9     19\n",
       "Label_10    21\n",
       "Label_11    23\n",
       "Label_12    25\n",
       "Label_13    27\n",
       "Label_14    29\n",
       "Label_15    31\n",
       "Label_16    33\n",
       "Label_17    35\n",
       "Label_18    37\n",
       "Label_19    39\n",
       "Label_20    41\n",
       "Label_21    43\n",
       "Label_22    45\n",
       "Label_23    47\n",
       "Label_24    49\n",
       "Label_25    51\n",
       "Label_26    53\n",
       "Label_27    55\n",
       "Label_28    57\n",
       "Label_29    59\n",
       "Label_30    61\n",
       "Label_31    63\n",
       "Label_32    65\n",
       "Label_33    67\n",
       "Label_34    69\n",
       "Label_35    71\n",
       "Label_36    73\n",
       "Label_37    75\n",
       "Label_38    77\n",
       "Label_39    79\n",
       "Label_40    81\n",
       "Label_41    83\n",
       "Label_42    85\n",
       "Label_43    87\n",
       "Label_44    89\n",
       "Label_45    91\n",
       "Label_46    93\n",
       "Label_47    95\n",
       "Label_48    97\n",
       "Label_49    99\n",
       "dtype: int32"
      ]
     },
     "execution_count": 13,
     "metadata": {},
     "output_type": "execute_result"
    }
   ],
   "source": [
    "l = np.arange(1,100,2)\n",
    "s = pd.Series(l).add_prefix('Label_')\n",
    "s"
   ]
  },
  {
   "cell_type": "code",
   "execution_count": 24,
   "id": "1d6b6e87-73f6-4042-a63b-e35b8493f0de",
   "metadata": {},
   "outputs": [],
   "source": [
    " def notDivisibleBy3(s):\n",
    "     return s%3!=0"
   ]
  },
  {
   "cell_type": "code",
   "execution_count": 28,
   "id": "74c65bf0-ada4-4a12-a02d-799efe449a00",
   "metadata": {},
   "outputs": [
    {
     "data": {
      "text/plain": [
       "Label_0      True\n",
       "Label_1     False\n",
       "Label_2      True\n",
       "Label_3      True\n",
       "Label_4     False\n",
       "Label_5      True\n",
       "Label_6      True\n",
       "Label_7     False\n",
       "Label_8      True\n",
       "Label_9      True\n",
       "Label_10    False\n",
       "Label_11     True\n",
       "Label_12     True\n",
       "Label_13    False\n",
       "Label_14     True\n",
       "Label_15     True\n",
       "Label_16    False\n",
       "Label_17     True\n",
       "Label_18     True\n",
       "Label_19    False\n",
       "Label_20     True\n",
       "Label_21     True\n",
       "Label_22    False\n",
       "Label_23     True\n",
       "Label_24     True\n",
       "Label_25    False\n",
       "Label_26     True\n",
       "Label_27     True\n",
       "Label_28    False\n",
       "Label_29     True\n",
       "Label_30     True\n",
       "Label_31    False\n",
       "Label_32     True\n",
       "Label_33     True\n",
       "Label_34    False\n",
       "Label_35     True\n",
       "Label_36     True\n",
       "Label_37    False\n",
       "Label_38     True\n",
       "Label_39     True\n",
       "Label_40    False\n",
       "Label_41     True\n",
       "Label_42     True\n",
       "Label_43    False\n",
       "Label_44     True\n",
       "Label_45     True\n",
       "Label_46    False\n",
       "Label_47     True\n",
       "Label_48     True\n",
       "Label_49    False\n",
       "dtype: bool"
      ]
     },
     "execution_count": 28,
     "metadata": {},
     "output_type": "execute_result"
    }
   ],
   "source": [
    "#calling the above function \n",
    "divisibleBy3(s)"
   ]
  },
  {
   "cell_type": "code",
   "execution_count": 32,
   "id": "8b9e20f9-53ad-456b-b691-c05408a5603a",
   "metadata": {},
   "outputs": [
    {
     "data": {
      "text/plain": [
       "Label_0      1\n",
       "Label_2      5\n",
       "Label_3      7\n",
       "Label_5     11\n",
       "Label_6     13\n",
       "Label_8     17\n",
       "Label_9     19\n",
       "Label_11    23\n",
       "Label_12    25\n",
       "Label_14    29\n",
       "Label_15    31\n",
       "Label_17    35\n",
       "Label_18    37\n",
       "Label_20    41\n",
       "Label_21    43\n",
       "Label_23    47\n",
       "Label_24    49\n",
       "Label_26    53\n",
       "Label_27    55\n",
       "Label_29    59\n",
       "Label_30    61\n",
       "Label_32    65\n",
       "Label_33    67\n",
       "Label_35    71\n",
       "Label_36    73\n",
       "Label_38    77\n",
       "Label_39    79\n",
       "Label_41    83\n",
       "Label_42    85\n",
       "Label_44    89\n",
       "Label_45    91\n",
       "Label_47    95\n",
       "Label_48    97\n",
       "dtype: int32"
      ]
     },
     "execution_count": 32,
     "metadata": {},
     "output_type": "execute_result"
    }
   ],
   "source": [
    "# use Callable object i.e function\n",
    "s[divisibleBy3(s)]"
   ]
  },
  {
   "cell_type": "code",
   "execution_count": 36,
   "id": "e50303ce-2af5-4184-828c-aaa08bed5f63",
   "metadata": {},
   "outputs": [],
   "source": [
    "def odd_selection(s):\n",
    "    return [True if i%2==1 else False for i in range(s.size)]"
   ]
  },
  {
   "cell_type": "code",
   "execution_count": 38,
   "id": "cf6d7a08-4e94-447c-bd5d-4919fcdc7e04",
   "metadata": {},
   "outputs": [
    {
     "data": {
      "text/plain": [
       "[False,\n",
       " True,\n",
       " False,\n",
       " True,\n",
       " False,\n",
       " True,\n",
       " False,\n",
       " True,\n",
       " False,\n",
       " True,\n",
       " False,\n",
       " True,\n",
       " False,\n",
       " True,\n",
       " False,\n",
       " True,\n",
       " False,\n",
       " True,\n",
       " False,\n",
       " True,\n",
       " False,\n",
       " True,\n",
       " False,\n",
       " True,\n",
       " False,\n",
       " True,\n",
       " False,\n",
       " True,\n",
       " False,\n",
       " True,\n",
       " False,\n",
       " True,\n",
       " False,\n",
       " True,\n",
       " False,\n",
       " True,\n",
       " False,\n",
       " True,\n",
       " False,\n",
       " True,\n",
       " False,\n",
       " True,\n",
       " False,\n",
       " True,\n",
       " False,\n",
       " True,\n",
       " False,\n",
       " True,\n",
       " False,\n",
       " True]"
      ]
     },
     "execution_count": 38,
     "metadata": {},
     "output_type": "execute_result"
    }
   ],
   "source": [
    "odd_selection(s)"
   ]
  },
  {
   "cell_type": "code",
   "execution_count": 40,
   "id": "9ad82530-8bfc-4736-8b94-99ddb7810e7f",
   "metadata": {},
   "outputs": [
    {
     "data": {
      "text/plain": [
       "Label_1      3\n",
       "Label_3      7\n",
       "Label_5     11\n",
       "Label_7     15\n",
       "Label_9     19\n",
       "Label_11    23\n",
       "Label_13    27\n",
       "Label_15    31\n",
       "Label_17    35\n",
       "Label_19    39\n",
       "Label_21    43\n",
       "Label_23    47\n",
       "Label_25    51\n",
       "Label_27    55\n",
       "Label_29    59\n",
       "Label_31    63\n",
       "Label_33    67\n",
       "Label_35    71\n",
       "Label_37    75\n",
       "Label_39    79\n",
       "Label_41    83\n",
       "Label_43    87\n",
       "Label_45    91\n",
       "Label_47    95\n",
       "Label_49    99\n",
       "dtype: int32"
      ]
     },
     "execution_count": 40,
     "metadata": {},
     "output_type": "execute_result"
    }
   ],
   "source": [
    "# use Callable object i.e above function\n",
    "s[odd_selection(s)]"
   ]
  },
  {
   "cell_type": "code",
   "execution_count": 42,
   "id": "c6b97c1e-1d14-40fa-b260-9395fe6a94ee",
   "metadata": {},
   "outputs": [
    {
     "data": {
      "text/plain": [
       "Label_1      3\n",
       "Label_3      7\n",
       "Label_5     11\n",
       "Label_7     15\n",
       "Label_9     19\n",
       "Label_11    23\n",
       "Label_13    27\n",
       "Label_15    31\n",
       "Label_17    35\n",
       "Label_19    39\n",
       "Label_21    43\n",
       "Label_23    47\n",
       "Label_25    51\n",
       "Label_27    55\n",
       "Label_29    59\n",
       "Label_31    63\n",
       "Label_33    67\n",
       "Label_35    71\n",
       "Label_37    75\n",
       "Label_39    79\n",
       "Label_41    83\n",
       "Label_43    87\n",
       "Label_45    91\n",
       "Label_47    95\n",
       "Label_49    99\n",
       "dtype: int32"
      ]
     },
     "execution_count": 42,
     "metadata": {},
     "output_type": "execute_result"
    }
   ],
   "source": [
    "s.iloc[odd_selection(s)]"
   ]
  },
  {
   "cell_type": "code",
   "execution_count": 44,
   "id": "daa129ad-dacd-4911-bd6a-70da2dc5b5fd",
   "metadata": {},
   "outputs": [
    {
     "data": {
      "text/plain": [
       "Label_1      3\n",
       "Label_3      7\n",
       "Label_5     11\n",
       "Label_7     15\n",
       "Label_9     19\n",
       "Label_11    23\n",
       "Label_13    27\n",
       "Label_15    31\n",
       "Label_17    35\n",
       "Label_19    39\n",
       "Label_21    43\n",
       "Label_23    47\n",
       "Label_25    51\n",
       "Label_27    55\n",
       "Label_29    59\n",
       "Label_31    63\n",
       "Label_33    67\n",
       "Label_35    71\n",
       "Label_37    75\n",
       "Label_39    79\n",
       "Label_41    83\n",
       "Label_43    87\n",
       "Label_45    91\n",
       "Label_47    95\n",
       "Label_49    99\n",
       "dtype: int32"
      ]
     },
     "execution_count": 44,
     "metadata": {},
     "output_type": "execute_result"
    }
   ],
   "source": [
    "s.loc[odd_selection(s)]"
   ]
  },
  {
   "cell_type": "code",
   "execution_count": 48,
   "id": "8d45bfab-927c-4425-b6e9-3fade2e148ba",
   "metadata": {},
   "outputs": [
    {
     "data": {
      "text/plain": [
       "Label_1      3\n",
       "Label_3      7\n",
       "Label_5     11\n",
       "Label_7     15\n",
       "Label_9     19\n",
       "Label_11    23\n",
       "Label_13    27\n",
       "Label_15    31\n",
       "Label_17    35\n",
       "Label_19    39\n",
       "Label_21    43\n",
       "Label_23    47\n",
       "Label_25    51\n",
       "Label_27    55\n",
       "Label_29    59\n",
       "Label_31    63\n",
       "Label_33    67\n",
       "Label_35    71\n",
       "Label_37    75\n",
       "Label_39    79\n",
       "Label_41    83\n",
       "Label_43    87\n",
       "Label_45    91\n",
       "Label_47    95\n",
       "Label_49    99\n",
       "dtype: int32"
      ]
     },
     "execution_count": 48,
     "metadata": {},
     "output_type": "execute_result"
    }
   ],
   "source": [
    "s.get(odd_selection(s))"
   ]
  },
  {
   "cell_type": "code",
   "execution_count": 78,
   "id": "7cf25126-72dc-4a3a-9278-a6019889fc38",
   "metadata": {},
   "outputs": [
    {
     "data": {
      "text/plain": [
       "Label_1      3\n",
       "Label_3      7\n",
       "Label_5     11\n",
       "Label_7     15\n",
       "Label_9     19\n",
       "Label_11    23\n",
       "Label_13    27\n",
       "Label_15    31\n",
       "Label_17    35\n",
       "Label_19    39\n",
       "Label_21    43\n",
       "Label_23    47\n",
       "Label_25    51\n",
       "Label_27    55\n",
       "Label_29    59\n",
       "Label_31    63\n",
       "Label_33    67\n",
       "Label_35    71\n",
       "Label_37    75\n",
       "Label_39    79\n",
       "Label_41    83\n",
       "Label_43    87\n",
       "Label_45    91\n",
       "Label_47    95\n",
       "Label_49    99\n",
       "dtype: int32"
      ]
     },
     "execution_count": 78,
     "metadata": {},
     "output_type": "execute_result"
    }
   ],
   "source": [
    "# using lambda\n",
    "s.iloc[lambda x:[True if i%2==1 else False for i in range(s.size)]]"
   ]
  },
  {
   "cell_type": "code",
   "execution_count": null,
   "id": "fada4a7c-39b8-46c2-b19a-71da80e23c39",
   "metadata": {},
   "outputs": [],
   "source": []
  }
 ],
 "metadata": {
  "kernelspec": {
   "display_name": "Python 3 (ipykernel)",
   "language": "python",
   "name": "python3"
  },
  "language_info": {
   "codemirror_mode": {
    "name": "ipython",
    "version": 3
   },
   "file_extension": ".py",
   "mimetype": "text/x-python",
   "name": "python",
   "nbconvert_exporter": "python",
   "pygments_lexer": "ipython3",
   "version": "3.11.7"
  }
 },
 "nbformat": 4,
 "nbformat_minor": 5
}
