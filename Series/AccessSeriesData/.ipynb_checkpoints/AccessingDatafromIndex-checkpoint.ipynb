{
 "cells": [
  {
   "cell_type": "code",
   "execution_count": 4,
   "id": "67c36550-8f3e-4808-b1e5-98eed37b632c",
   "metadata": {},
   "outputs": [],
   "source": [
    "import numpy as np\n",
    "import pandas as pd"
   ]
  },
  {
   "cell_type": "code",
   "execution_count": 8,
   "id": "3840564a-9463-4cc5-bf01-f45ee2e01d62",
   "metadata": {},
   "outputs": [
    {
     "data": {
      "text/plain": [
       "0     A\n",
       "1     B\n",
       "2     C\n",
       "3     D\n",
       "4     E\n",
       "5     F\n",
       "6     G\n",
       "7     H\n",
       "8     I\n",
       "9     J\n",
       "10    K\n",
       "11    L\n",
       "12    M\n",
       "13    N\n",
       "14    O\n",
       "15    P\n",
       "16    Q\n",
       "17    R\n",
       "18    S\n",
       "19    T\n",
       "20    U\n",
       "21    V\n",
       "22    W\n",
       "23    X\n",
       "24    Y\n",
       "25    Z\n",
       "dtype: object"
      ]
     },
     "execution_count": 8,
     "metadata": {},
     "output_type": "execute_result"
    }
   ],
   "source": [
    "from string import ascii_uppercase \n",
    "s = pd.Series(list(ascii_uppercase))\n",
    "s"
   ]
  },
  {
   "cell_type": "code",
   "execution_count": 32,
   "id": "851d4932-7fd4-4cf5-837f-1cd4087fef7e",
   "metadata": {},
   "outputs": [
    {
     "data": {
      "text/plain": [
       "'B'"
      ]
     },
     "execution_count": 32,
     "metadata": {},
     "output_type": "execute_result"
    }
   ],
   "source": [
    "#data from second index\n",
    "s[1]"
   ]
  },
  {
   "cell_type": "code",
   "execution_count": 34,
   "id": "9fde3055-eb17-45f5-b51d-75bffd441bef",
   "metadata": {},
   "outputs": [
    {
     "data": {
      "text/plain": [
       "'A'"
      ]
     },
     "execution_count": 34,
     "metadata": {},
     "output_type": "execute_result"
    }
   ],
   "source": [
    "#data from first index\n",
    "s[0]"
   ]
  },
  {
   "cell_type": "code",
   "execution_count": 36,
   "id": "449699ad-ab3c-42e1-a32f-09532ae10a7b",
   "metadata": {},
   "outputs": [
    {
     "data": {
      "text/plain": [
       "'Z'"
      ]
     },
     "execution_count": 36,
     "metadata": {},
     "output_type": "execute_result"
    }
   ],
   "source": [
    "#data from last index\n",
    "s[s.size-1]"
   ]
  },
  {
   "cell_type": "code",
   "execution_count": 40,
   "id": "129b84c2-bac2-4167-975c-0c97fab2f91a",
   "metadata": {},
   "outputs": [
    {
     "data": {
      "text/plain": [
       "18    S\n",
       "7     H\n",
       "22    W\n",
       "dtype: object"
      ]
     },
     "execution_count": 40,
     "metadata": {},
     "output_type": "execute_result"
    }
   ],
   "source": [
    "#accessing data from list of indexes\n",
    "s[[18,7,22]]"
   ]
  },
  {
   "cell_type": "code",
   "execution_count": 42,
   "id": "49036a63-1cfe-49b6-b5a0-ba854201093d",
   "metadata": {},
   "outputs": [
    {
     "data": {
      "text/plain": [
       "3     D\n",
       "5     F\n",
       "7     H\n",
       "9     J\n",
       "11    L\n",
       "13    N\n",
       "dtype: object"
      ]
     },
     "execution_count": 42,
     "metadata": {},
     "output_type": "execute_result"
    }
   ],
   "source": [
    "#accessing data from sclicing\n",
    "s[3:15:2]"
   ]
  },
  {
   "cell_type": "code",
   "execution_count": null,
   "id": "e8a44b8f-7b12-4d67-a6da-e81b9a19751f",
   "metadata": {},
   "outputs": [],
   "source": []
  }
 ],
 "metadata": {
  "kernelspec": {
   "display_name": "Python 3 (ipykernel)",
   "language": "python",
   "name": "python3"
  },
  "language_info": {
   "codemirror_mode": {
    "name": "ipython",
    "version": 3
   },
   "file_extension": ".py",
   "mimetype": "text/x-python",
   "name": "python",
   "nbconvert_exporter": "python",
   "pygments_lexer": "ipython3",
   "version": "3.11.7"
  }
 },
 "nbformat": 4,
 "nbformat_minor": 5
}
