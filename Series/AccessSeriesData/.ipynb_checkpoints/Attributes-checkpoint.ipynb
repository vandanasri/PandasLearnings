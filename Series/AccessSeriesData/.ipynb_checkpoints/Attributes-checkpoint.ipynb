{
 "cells": [
  {
   "cell_type": "code",
   "execution_count": 115,
   "id": "f9291e6b-5ce4-49e8-96b3-3b45cbae243b",
   "metadata": {},
   "outputs": [],
   "source": [
    "import pandas as pd\n",
    "import numpy as np"
   ]
  },
  {
   "cell_type": "code",
   "execution_count": 117,
   "id": "483740e2-8c30-4c96-8952-6a48d1cefdbb",
   "metadata": {},
   "outputs": [
    {
     "data": {
      "text/plain": [
       "Label_0     1\n",
       "Label_1     3\n",
       "Label_2     5\n",
       "Label_3     7\n",
       "Label_4     9\n",
       "Label_5    11\n",
       "Label_6    13\n",
       "Label_7    15\n",
       "Label_8    17\n",
       "Label_9    19\n",
       "Name: Even numbers, dtype: int32"
      ]
     },
     "execution_count": 117,
     "metadata": {},
     "output_type": "execute_result"
    }
   ],
   "source": [
    "l = np.arange(1,20,2)\n",
    "s = pd.Series(l).add_prefix('Label_')\n",
    "s.name = 'Even numbers'\n",
    "s"
   ]
  },
  {
   "cell_type": "code",
   "execution_count": 119,
   "id": "dbb8cb0f-981b-42af-b7f8-de1e5c3c6e64",
   "metadata": {},
   "outputs": [
    {
     "data": {
      "text/plain": [
       "array([ 1,  3,  5,  7,  9, 11, 13, 15, 17, 19])"
      ]
     },
     "execution_count": 119,
     "metadata": {},
     "output_type": "execute_result"
    }
   ],
   "source": [
    "#to get values\n",
    "s.values"
   ]
  },
  {
   "cell_type": "code",
   "execution_count": 121,
   "id": "86e0d8d3-5a6e-4a9d-95b3-74d7de22ef41",
   "metadata": {},
   "outputs": [
    {
     "data": {
      "text/plain": [
       "Index(['Label_0', 'Label_1', 'Label_2', 'Label_3', 'Label_4', 'Label_5',\n",
       "       'Label_6', 'Label_7', 'Label_8', 'Label_9'],\n",
       "      dtype='object')"
      ]
     },
     "execution_count": 121,
     "metadata": {},
     "output_type": "execute_result"
    }
   ],
   "source": [
    "#to get index of series\n",
    "s.index"
   ]
  },
  {
   "cell_type": "code",
   "execution_count": 123,
   "id": "036d93d9-461c-4f35-8fd3-09a740bb01d5",
   "metadata": {},
   "outputs": [
    {
     "data": {
      "text/plain": [
       "dtype('int32')"
      ]
     },
     "execution_count": 123,
     "metadata": {},
     "output_type": "execute_result"
    }
   ],
   "source": [
    "# data type\n",
    "s.dtype"
   ]
  },
  {
   "cell_type": "code",
   "execution_count": 125,
   "id": "ac256b64-317a-453a-9f53-63ec89cf4782",
   "metadata": {},
   "outputs": [
    {
     "data": {
      "text/plain": [
       "10"
      ]
     },
     "execution_count": 125,
     "metadata": {},
     "output_type": "execute_result"
    }
   ],
   "source": [
    "# get number of elemnts present in series\n",
    "s.size"
   ]
  },
  {
   "cell_type": "code",
   "execution_count": 127,
   "id": "95e7ff80-8e8c-4aee-b3c7-1584c6232e7b",
   "metadata": {},
   "outputs": [
    {
     "data": {
      "text/plain": [
       "(10,)"
      ]
     },
     "execution_count": 127,
     "metadata": {},
     "output_type": "execute_result"
    }
   ],
   "source": [
    "#to get shape\n",
    "s.shape"
   ]
  },
  {
   "cell_type": "code",
   "execution_count": 129,
   "id": "46188870-f14f-45e6-a5c4-98a5fc3985aa",
   "metadata": {},
   "outputs": [
    {
     "data": {
      "text/plain": [
       "1"
      ]
     },
     "execution_count": 129,
     "metadata": {},
     "output_type": "execute_result"
    }
   ],
   "source": [
    "#to get dimension\n",
    "s.ndim"
   ]
  },
  {
   "cell_type": "code",
   "execution_count": 131,
   "id": "7ff2797e-7485-4008-88af-08bbd854ad69",
   "metadata": {},
   "outputs": [
    {
     "data": {
      "text/plain": [
       "'Even numbers'"
      ]
     },
     "execution_count": 131,
     "metadata": {},
     "output_type": "execute_result"
    }
   ],
   "source": [
    "# name of series\n",
    "s.name"
   ]
  },
  {
   "cell_type": "code",
   "execution_count": 133,
   "id": "fd84f77f-77d0-48bc-8df5-a067dfe07316",
   "metadata": {},
   "outputs": [
    {
     "data": {
      "text/plain": [
       "True"
      ]
     },
     "execution_count": 133,
     "metadata": {},
     "output_type": "execute_result"
    }
   ],
   "source": [
    "# check if value in series are unique or not\n",
    "s.is_unique"
   ]
  },
  {
   "cell_type": "code",
   "execution_count": 135,
   "id": "9db14e86-58c2-418e-8369-9a569b5f0de4",
   "metadata": {},
   "outputs": [
    {
     "data": {
      "text/plain": [
       "False"
      ]
     },
     "execution_count": 135,
     "metadata": {},
     "output_type": "execute_result"
    }
   ],
   "source": [
    "#check if has nons value in series not\n",
    "s.hasnans"
   ]
  },
  {
   "cell_type": "code",
   "execution_count": 137,
   "id": "066d51ba-f082-4f16-b1f7-6707f1724e1a",
   "metadata": {},
   "outputs": [
    {
     "data": {
      "text/plain": [
       "True"
      ]
     },
     "execution_count": 137,
     "metadata": {},
     "output_type": "execute_result"
    }
   ],
   "source": [
    "# check whether the value is in increasing order or not\n",
    "s.is_monotonic_increasing"
   ]
  },
  {
   "cell_type": "code",
   "execution_count": 139,
   "id": "816d34fc-b3f5-4bce-aec2-74560eeae87d",
   "metadata": {},
   "outputs": [
    {
     "data": {
      "text/plain": [
       "False"
      ]
     },
     "execution_count": 139,
     "metadata": {},
     "output_type": "execute_result"
    }
   ],
   "source": [
    "# check whether the value is in decreasing order or not\n",
    "s.is_monotonic_decreasing"
   ]
  },
  {
   "cell_type": "code",
   "execution_count": 141,
   "id": "0ac33400-4ca9-46eb-ac22-10c916a71f06",
   "metadata": {},
   "outputs": [
    {
     "data": {
      "text/plain": [
       "False"
      ]
     },
     "execution_count": 141,
     "metadata": {},
     "output_type": "execute_result"
    }
   ],
   "source": [
    "# check whether the None or nan or not\n",
    "s.hasnans"
   ]
  },
  {
   "cell_type": "code",
   "execution_count": null,
   "id": "69ac934c-f8c8-4ba2-a453-2176ff5e3116",
   "metadata": {},
   "outputs": [],
   "source": []
  },
  {
   "cell_type": "code",
   "execution_count": null,
   "id": "8f3e8350-ea75-4710-805c-2bbc0b5175a4",
   "metadata": {},
   "outputs": [],
   "source": []
  }
 ],
 "metadata": {
  "kernelspec": {
   "display_name": "Python 3 (ipykernel)",
   "language": "python",
   "name": "python3"
  },
  "language_info": {
   "codemirror_mode": {
    "name": "ipython",
    "version": 3
   },
   "file_extension": ".py",
   "mimetype": "text/x-python",
   "name": "python",
   "nbconvert_exporter": "python",
   "pygments_lexer": "ipython3",
   "version": "3.11.7"
  }
 },
 "nbformat": 4,
 "nbformat_minor": 5
}
