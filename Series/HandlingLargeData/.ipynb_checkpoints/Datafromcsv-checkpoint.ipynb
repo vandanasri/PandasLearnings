{
 "cells": [
  {
   "cell_type": "code",
   "execution_count": 12,
   "id": "0da4ef92-e203-42c5-a6ae-173263e90f33",
   "metadata": {},
   "outputs": [],
   "source": [
    "import pandas as pd"
   ]
  },
  {
   "cell_type": "code",
   "execution_count": 14,
   "id": "0032b544-0b89-41f3-82b6-67d3b974131f",
   "metadata": {},
   "outputs": [
    {
     "data": {
      "text/plain": [
       "name\n",
       "Harshit Rana         20.0\n",
       "Ekant Sen             NaN\n",
       "Wayne Parnell         NaN\n",
       "Shakib Al Hasan     150.0\n",
       "Joe Root            100.0\n",
       "                    ...  \n",
       "MS Dhoni           1200.0\n",
       "Moeen Ali           800.0\n",
       "Ruturaj Gaikwad     600.0\n",
       "Rishabh Pant       1600.0\n",
       "Axar Patel          900.0\n",
       "Name: final price (in lacs), Length: 309, dtype: float64"
      ]
     },
     "execution_count": 14,
     "metadata": {},
     "output_type": "execute_result"
    }
   ],
   "source": [
    "filepath='C:\\\\Users\\\\Admin\\\\Downloads\\\\iplauction2023.csv'\n",
    "#csv file read and get values in Series by using squeeze\n",
    "s = pd.read_csv(filepath, index_col='name', usecols=['final price (in lacs)', 'name']).squeeze()\n",
    "s"
   ]
  },
  {
   "cell_type": "code",
   "execution_count": 16,
   "id": "dbbb31e2-3999-4b94-abe9-c85a14cb917e",
   "metadata": {},
   "outputs": [
    {
     "data": {
      "text/plain": [
       "238"
      ]
     },
     "execution_count": 16,
     "metadata": {},
     "output_type": "execute_result"
    }
   ],
   "source": [
    "# number of non-NA/null observations in the Series\n",
    "s.count()"
   ]
  },
  {
   "cell_type": "code",
   "execution_count": 18,
   "id": "8cf5c4ea-4de5-4b55-85ae-1069d9ecd3ef",
   "metadata": {},
   "outputs": [
    {
     "data": {
      "text/plain": [
       "309"
      ]
     },
     "execution_count": 18,
     "metadata": {},
     "output_type": "execute_result"
    }
   ],
   "source": [
    "# get Total values in Series\n",
    "s.size"
   ]
  },
  {
   "cell_type": "code",
   "execution_count": 20,
   "id": "93b488d7-900b-4c32-870f-2f450c680044",
   "metadata": {},
   "outputs": [
    {
     "data": {
      "text/plain": [
       "71"
      ]
     },
     "execution_count": 20,
     "metadata": {},
     "output_type": "execute_result"
    }
   ],
   "source": [
    "# get number of null/nan values\n",
    "s[s.isnull()].size"
   ]
  },
  {
   "cell_type": "code",
   "execution_count": 22,
   "id": "07b156e5-9ce5-4245-9f50-462f32842553",
   "metadata": {},
   "outputs": [
    {
     "data": {
      "text/plain": [
       "True"
      ]
     },
     "execution_count": 22,
     "metadata": {},
     "output_type": "execute_result"
    }
   ],
   "source": [
    "#check whether contains nan values\n",
    "s.hasnans"
   ]
  },
  {
   "cell_type": "code",
   "execution_count": 24,
   "id": "3bc7b776-0aa8-4574-9c3f-c94ee8889467",
   "metadata": {},
   "outputs": [
    {
     "data": {
      "text/plain": [
       "name\n",
       "Ekant Sen            NaN\n",
       "Wayne Parnell        NaN\n",
       "Prashant Chopra      NaN\n",
       "Luke Wood            NaN\n",
       "Dilshan Madushanka   NaN\n",
       "                      ..\n",
       "Mujeeb Ur Rahman     NaN\n",
       "Tabraiz Shamsi       NaN\n",
       "Adam Milne           NaN\n",
       "Chris Jordan         NaN\n",
       "Tom Banton           NaN\n",
       "Name: final price (in lacs), Length: 71, dtype: float64"
      ]
     },
     "execution_count": 24,
     "metadata": {},
     "output_type": "execute_result"
    }
   ],
   "source": [
    "# to get only missing values\n",
    "s.loc[s.isnull()]"
   ]
  },
  {
   "cell_type": "code",
   "execution_count": 26,
   "id": "5d799989-d6aa-448f-96a9-85ef934d2686",
   "metadata": {},
   "outputs": [
    {
     "data": {
      "text/plain": [
       "name\n",
       "Harshit Rana         20.0\n",
       "Shakib Al Hasan     150.0\n",
       "Joe Root            100.0\n",
       "Abdul Basith         20.0\n",
       "Akeal Hosein        100.0\n",
       "                    ...  \n",
       "MS Dhoni           1200.0\n",
       "Moeen Ali           800.0\n",
       "Ruturaj Gaikwad     600.0\n",
       "Rishabh Pant       1600.0\n",
       "Axar Patel          900.0\n",
       "Name: final price (in lacs), Length: 238, dtype: float64"
      ]
     },
     "execution_count": 26,
     "metadata": {},
     "output_type": "execute_result"
    }
   ],
   "source": [
    "# to get only non missing values\n",
    "s.loc[s.notnull()]"
   ]
  },
  {
   "cell_type": "code",
   "execution_count": 28,
   "id": "2228639f-ff8e-4ff3-9d3a-dd879a9292e1",
   "metadata": {},
   "outputs": [
    {
     "data": {
      "text/plain": [
       "name\n",
       "Harshit Rana         20.0\n",
       "Shakib Al Hasan     150.0\n",
       "Joe Root            100.0\n",
       "Abdul Basith         20.0\n",
       "Akeal Hosein        100.0\n",
       "                    ...  \n",
       "MS Dhoni           1200.0\n",
       "Moeen Ali           800.0\n",
       "Ruturaj Gaikwad     600.0\n",
       "Rishabh Pant       1600.0\n",
       "Axar Patel          900.0\n",
       "Name: final price (in lacs), Length: 238, dtype: float64"
      ]
     },
     "execution_count": 28,
     "metadata": {},
     "output_type": "execute_result"
    }
   ],
   "source": [
    "#Drop missing values, will do the changes in new series not in a existing series \n",
    "new_s = s.dropna()\n",
    "new_s"
   ]
  },
  {
   "cell_type": "code",
   "execution_count": 30,
   "id": "af8fddad-e58d-40bd-9c2b-2c5334169b48",
   "metadata": {},
   "outputs": [
    {
     "data": {
      "text/plain": [
       "name\n",
       "Harshit Rana         20.0\n",
       "Shakib Al Hasan     150.0\n",
       "Joe Root            100.0\n",
       "Abdul Basith         20.0\n",
       "Akeal Hosein        100.0\n",
       "                    ...  \n",
       "MS Dhoni           1200.0\n",
       "Moeen Ali           800.0\n",
       "Ruturaj Gaikwad     600.0\n",
       "Rishabh Pant       1600.0\n",
       "Axar Patel          900.0\n",
       "Name: final price (in lacs), Length: 238, dtype: float64"
      ]
     },
     "execution_count": 30,
     "metadata": {},
     "output_type": "execute_result"
    }
   ],
   "source": [
    "#Drop missing values inplace = True will do the changes in existing series not in a new series \n",
    "s.dropna(inplace = True)\n",
    "s"
   ]
  },
  {
   "cell_type": "code",
   "execution_count": 32,
   "id": "bdc02d7e-5068-4062-8baf-f65941b92161",
   "metadata": {},
   "outputs": [
    {
     "data": {
      "text/plain": [
       "name\n",
       "Harshit Rana         20.0\n",
       "Shakib Al Hasan     150.0\n",
       "Joe Root            100.0\n",
       "Abdul Basith         20.0\n",
       "Akeal Hosein        100.0\n",
       "                    ...  \n",
       "MS Dhoni           1200.0\n",
       "Moeen Ali           800.0\n",
       "Ruturaj Gaikwad     600.0\n",
       "Rishabh Pant       1600.0\n",
       "Axar Patel          900.0\n",
       "Name: final price (in lacs), Length: 238, dtype: float64"
      ]
     },
     "execution_count": 32,
     "metadata": {},
     "output_type": "execute_result"
    }
   ],
   "source": [
    "# replace nan values with desired value\n",
    "nw = s.fillna(0)\n",
    "nw"
   ]
  },
  {
   "cell_type": "code",
   "execution_count": 34,
   "id": "5c57c80b-26ef-44b1-9c86-8485867eb25a",
   "metadata": {},
   "outputs": [
    {
     "data": {
      "text/plain": [
       "87600.0"
      ]
     },
     "execution_count": 34,
     "metadata": {},
     "output_type": "execute_result"
    }
   ],
   "source": [
    "#sum of all values\n",
    "s.sum()"
   ]
  },
  {
   "cell_type": "code",
   "execution_count": 36,
   "id": "2d00b7a5-ddd3-4f92-ad38-a487cae04cbc",
   "metadata": {},
   "outputs": [
    {
     "data": {
      "text/plain": [
       "368.06722689075633"
      ]
     },
     "execution_count": 36,
     "metadata": {},
     "output_type": "execute_result"
    }
   ],
   "source": [
    "# mean value\n",
    "s.mean()"
   ]
  },
  {
   "cell_type": "code",
   "execution_count": 38,
   "id": "548b0154-e837-4981-8895-f6d7e27fff25",
   "metadata": {},
   "outputs": [
    {
     "data": {
      "text/plain": [
       "150.0"
      ]
     },
     "execution_count": 38,
     "metadata": {},
     "output_type": "execute_result"
    }
   ],
   "source": [
    "# median value\n",
    "s.median()"
   ]
  },
  {
   "cell_type": "code",
   "execution_count": 40,
   "id": "94bc745f-e452-443b-b54f-7ca2f3fc53e9",
   "metadata": {},
   "outputs": [
    {
     "data": {
      "text/plain": [
       "201663.97014502"
      ]
     },
     "execution_count": 40,
     "metadata": {},
     "output_type": "execute_result"
    }
   ],
   "source": [
    "# variance value\n",
    "s.var()"
   ]
  },
  {
   "cell_type": "code",
   "execution_count": 42,
   "id": "c49d818c-b037-4bd9-b310-c923cf667252",
   "metadata": {},
   "outputs": [
    {
     "data": {
      "text/plain": [
       "449.07011718107003"
      ]
     },
     "execution_count": 42,
     "metadata": {},
     "output_type": "execute_result"
    }
   ],
   "source": [
    "# standard deviation\n",
    "s.std()"
   ]
  },
  {
   "cell_type": "code",
   "execution_count": 44,
   "id": "2dc94f14-bf3a-41f1-acfe-390a011ea2e8",
   "metadata": {},
   "outputs": [
    {
     "data": {
      "text/plain": [
       "0    20.0\n",
       "Name: final price (in lacs), dtype: float64"
      ]
     },
     "execution_count": 44,
     "metadata": {},
     "output_type": "execute_result"
    }
   ],
   "source": [
    "# mode value, return new series object\n",
    "s.mode()"
   ]
  },
  {
   "cell_type": "code",
   "execution_count": 46,
   "id": "e3c07a37-8785-4ebc-8f29-2839245a7e3c",
   "metadata": {},
   "outputs": [
    {
     "data": {
      "text/plain": [
       "name\n",
       "Harshit Rana            20.0\n",
       "Abdul Basith            20.0\n",
       "Raghav Goyal            20.0\n",
       "Yudhvir Singh Charak    20.0\n",
       "Akash Vashist           20.0\n",
       "Murugan Ashwin          20.0\n",
       "Anmolpreet Singh        20.0\n",
       "Shivam Singh            20.0\n",
       "Mohit Rathee            20.0\n",
       "Bhagath Varma           20.0\n",
       "Nehal Wadhera           20.0\n",
       "Sonu Yadav              20.0\n",
       "Kunal Singh Rathore     20.0\n",
       "Ajay Jadav Mandal       20.0\n",
       "Kulwant Khejroliya      20.0\n",
       "Nitish Reddy            20.0\n",
       "Swapnil Singh           20.0\n",
       "Shams Mulani            20.0\n",
       "Suyash Sharma           20.0\n",
       "Vidhwath Kaverappa      20.0\n",
       "Vishnu Vinod            20.0\n",
       "Urvil Patel             20.0\n",
       "Prerak Mankad           20.0\n",
       "Duan Jansen             20.0\n",
       "Manoj Bhandage          20.0\n",
       "Himanshu Sharma         20.0\n",
       "Sanvir Singh            20.0\n",
       "Samarth Vyas            20.0\n",
       "Shaik Rasheed           20.0\n",
       "Rajat Patidar           20.0\n",
       "Matheesha Pathirana     20.0\n",
       "Tristan Stubbs          20.0\n",
       "Akash Madhwal           20.0\n",
       "Kumar Kartikeya         20.0\n",
       "Dhruv Jurel             20.0\n",
       "Mukesh Choudhary        20.0\n",
       "Atharva Taide           20.0\n",
       "Sai Sudharsan           20.0\n",
       "Sarfaraz Khan           20.0\n",
       "Subhranshu Senapati     20.0\n",
       "Jitesh Sharma           20.0\n",
       "Ramandeep Singh         20.0\n",
       "Tushar Deshpande        20.0\n",
       "Ayush Badoni            20.0\n",
       "Mayank Yadav            20.0\n",
       "Pradeep Sangwan         20.0\n",
       "Mohsin Khan             20.0\n",
       "Simarjeet Singh         20.0\n",
       "Kuldeep Sen             20.0\n",
       "Anukul Roy              20.0\n",
       "Ripal Patel             20.0\n",
       "Vicky Ostwal            20.0\n",
       "Darshan Nalkande        20.0\n",
       "Manan Vohra             20.0\n",
       "Karan Sharma            20.0\n",
       "Mohd Arshad Khan        20.0\n",
       "Baltej Singh            20.0\n",
       "Hrithik Shokeen         20.0\n",
       "Kuldip Yadav            20.0\n",
       "Akash Deep              20.0\n",
       "Name: final price (in lacs), dtype: float64"
      ]
     },
     "execution_count": 46,
     "metadata": {},
     "output_type": "execute_result"
    }
   ],
   "source": [
    "#get how many values of mode\n",
    "m =s[s==20.0]\n",
    "m"
   ]
  },
  {
   "cell_type": "code",
   "execution_count": 48,
   "id": "51edea47-4058-4045-baab-f0c82d0dff9b",
   "metadata": {},
   "outputs": [
    {
     "data": {
      "text/plain": [
       "60"
      ]
     },
     "execution_count": 48,
     "metadata": {},
     "output_type": "execute_result"
    }
   ],
   "source": [
    "m.size"
   ]
  },
  {
   "cell_type": "code",
   "execution_count": 50,
   "id": "c9dcef62-01da-492d-844a-09b4e6e6a4b4",
   "metadata": {},
   "outputs": [
    {
     "data": {
      "text/plain": [
       "count     238.000000\n",
       "mean      368.067227\n",
       "std       449.070117\n",
       "min        20.000000\n",
       "25%        21.250000\n",
       "50%       150.000000\n",
       "75%       625.000000\n",
       "max      1850.000000\n",
       "Name: final price (in lacs), dtype: float64"
      ]
     },
     "execution_count": 50,
     "metadata": {},
     "output_type": "execute_result"
    }
   ],
   "source": [
    "s.describe()"
   ]
  },
  {
   "cell_type": "code",
   "execution_count": 58,
   "id": "ddb3f10f-f07d-498f-9935-c7fe100244cd",
   "metadata": {},
   "outputs": [
    {
     "data": {
      "text/plain": [
       "'Sam Curran'"
      ]
     },
     "execution_count": 58,
     "metadata": {},
     "output_type": "execute_result"
    }
   ],
   "source": [
    "#index associated with max value\n",
    "s.idxmax()"
   ]
  },
  {
   "cell_type": "code",
   "execution_count": 64,
   "id": "ec7523b2-0d4e-4a47-af5d-e09d82511fe6",
   "metadata": {},
   "outputs": [
    {
     "data": {
      "text/plain": [
       "'Harshit Rana'"
      ]
     },
     "execution_count": 64,
     "metadata": {},
     "output_type": "execute_result"
    }
   ],
   "source": [
    "#index associated with min value\n",
    "s.idxmin()"
   ]
  },
  {
   "cell_type": "code",
   "execution_count": 66,
   "id": "1c45485a-83b3-4331-8409-10f19bc94aca",
   "metadata": {},
   "outputs": [
    {
     "data": {
      "text/plain": [
       "name\n",
       "Sam Curran         1850.0\n",
       "Cameron Green      1750.0\n",
       "KL Rahul           1700.0\n",
       "Ben Stokes         1625.0\n",
       "Nicholas Pooran    1600.0\n",
       "Rohit Sharma       1600.0\n",
       "Ravindra Jadeja    1600.0\n",
       "Rishabh Pant       1600.0\n",
       "Ishan Kishan       1525.0\n",
       "Virat Kohli        1500.0\n",
       "Name: final price (in lacs), dtype: float64"
      ]
     },
     "execution_count": 66,
     "metadata": {},
     "output_type": "execute_result"
    }
   ],
   "source": [
    "# largest n elemnets where n=10\n",
    "s.nlargest(n=10)"
   ]
  },
  {
   "cell_type": "code",
   "execution_count": 68,
   "id": "c931906d-2ccb-4797-94f4-76de91d2a7f6",
   "metadata": {},
   "outputs": [
    {
     "data": {
      "text/plain": [
       "name\n",
       "Harshit Rana            20.0\n",
       "Abdul Basith            20.0\n",
       "Raghav Goyal            20.0\n",
       "Yudhvir Singh Charak    20.0\n",
       "Akash Vashist           20.0\n",
       "Murugan Ashwin          20.0\n",
       "Anmolpreet Singh        20.0\n",
       "Shivam Singh            20.0\n",
       "Mohit Rathee            20.0\n",
       "Bhagath Varma           20.0\n",
       "Name: final price (in lacs), dtype: float64"
      ]
     },
     "execution_count": 68,
     "metadata": {},
     "output_type": "execute_result"
    }
   ],
   "source": [
    "# smallest n elemnets where n=10\n",
    "s.nsmallest(n=10)"
   ]
  },
  {
   "cell_type": "code",
   "execution_count": 72,
   "id": "d122bc3d-29d3-4a18-992d-12762de04242",
   "metadata": {},
   "outputs": [
    {
     "data": {
      "text/plain": [
       "name\n",
       "Sam Curran             1850.0\n",
       "Cameron Green          1750.0\n",
       "KL Rahul               1700.0\n",
       "Ben Stokes             1625.0\n",
       "Ravindra Jadeja        1600.0\n",
       "                        ...  \n",
       "Tristan Stubbs           20.0\n",
       "Matheesha Pathirana      20.0\n",
       "Rajat Patidar            20.0\n",
       "Shaik Rasheed            20.0\n",
       "Ramandeep Singh          20.0\n",
       "Name: final price (in lacs), Length: 238, dtype: float64"
      ]
     },
     "execution_count": 72,
     "metadata": {},
     "output_type": "execute_result"
    }
   ],
   "source": [
    "# sort elements\n",
    "s.sort_values(ascending=False, na_position='first')"
   ]
  },
  {
   "cell_type": "code",
   "execution_count": 74,
   "id": "9d05cb53-5838-4114-b428-5194039bd8e0",
   "metadata": {},
   "outputs": [
    {
     "data": {
      "text/plain": [
       "name\n",
       "Yuzvendra Chahal               650.0\n",
       "Yudhvir Singh Charak            20.0\n",
       "Yashasvi Jaiswal               400.0\n",
       "Yash Thakur                     45.0\n",
       "Yash Dhull                      50.0\n",
       "                               ...  \n",
       "Adam Zampa                     150.0\n",
       "Abhishek Sharma                650.0\n",
       "Abhinav Manohar Sadarangani    260.0\n",
       "Abdul Samad                    400.0\n",
       "Abdul Basith                    20.0\n",
       "Name: final price (in lacs), Length: 238, dtype: float64"
      ]
     },
     "execution_count": 74,
     "metadata": {},
     "output_type": "execute_result"
    }
   ],
   "source": [
    "# sort elements\n",
    "s.sort_index(ascending=False, na_position='first')"
   ]
  },
  {
   "cell_type": "code",
   "execution_count": null,
   "id": "3364611c-f501-4109-9d93-f7048a993b94",
   "metadata": {},
   "outputs": [],
   "source": []
  }
 ],
 "metadata": {
  "kernelspec": {
   "display_name": "Python 3 (ipykernel)",
   "language": "python",
   "name": "python3"
  },
  "language_info": {
   "codemirror_mode": {
    "name": "ipython",
    "version": 3
   },
   "file_extension": ".py",
   "mimetype": "text/x-python",
   "name": "python",
   "nbconvert_exporter": "python",
   "pygments_lexer": "ipython3",
   "version": "3.11.7"
  }
 },
 "nbformat": 4,
 "nbformat_minor": 5
}
