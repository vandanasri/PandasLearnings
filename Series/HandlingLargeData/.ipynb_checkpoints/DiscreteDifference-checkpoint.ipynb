{
 "cells": [
  {
   "cell_type": "code",
   "execution_count": 18,
   "id": "abb64a51-c9ec-4bee-93f4-ce1e83a792e2",
   "metadata": {},
   "outputs": [
    {
     "data": {
      "text/plain": [
       "0    10\n",
       "1    34\n",
       "2    12\n",
       "3    78\n",
       "4    41\n",
       "5    59\n",
       "dtype: int64"
      ]
     },
     "execution_count": 18,
     "metadata": {},
     "output_type": "execute_result"
    }
   ],
   "source": [
    "import pandas as pd\n",
    "\n",
    "s = pd.Series(data=[10,34,12,78,41,59])\n",
    "s"
   ]
  },
  {
   "cell_type": "code",
   "execution_count": 20,
   "id": "08da64c3-f117-4334-bb3d-8fc56a97a5f5",
   "metadata": {},
   "outputs": [
    {
     "data": {
      "text/plain": [
       "0     NaN\n",
       "1    24.0\n",
       "2   -22.0\n",
       "3    66.0\n",
       "4   -37.0\n",
       "5    18.0\n",
       "dtype: float64"
      ]
     },
     "execution_count": 20,
     "metadata": {},
     "output_type": "execute_result"
    }
   ],
   "source": [
    "#difference with periods=1\n",
    "s.diff()"
   ]
  },
  {
   "cell_type": "code",
   "execution_count": 22,
   "id": "028e06dd-85f7-4856-bde9-c41f2d4530ff",
   "metadata": {},
   "outputs": [
    {
     "data": {
      "text/plain": [
       "0     NaN\n",
       "1     NaN\n",
       "2     NaN\n",
       "3    68.0\n",
       "4     7.0\n",
       "5    47.0\n",
       "dtype: float64"
      ]
     },
     "execution_count": 22,
     "metadata": {},
     "output_type": "execute_result"
    }
   ],
   "source": [
    "s.diff(periods=3)"
   ]
  },
  {
   "cell_type": "code",
   "execution_count": 24,
   "id": "b7f88333-969f-43c9-b7b2-de56f39e7b53",
   "metadata": {},
   "outputs": [
    {
     "data": {
      "text/plain": [
       "0   -68.0\n",
       "1    -7.0\n",
       "2   -47.0\n",
       "3     NaN\n",
       "4     NaN\n",
       "5     NaN\n",
       "dtype: float64"
      ]
     },
     "execution_count": 24,
     "metadata": {},
     "output_type": "execute_result"
    }
   ],
   "source": [
    "s.diff(periods=-3)"
   ]
  },
  {
   "cell_type": "code",
   "execution_count": null,
   "id": "61763cd0-8752-4e59-b09a-dadfa1e41c7f",
   "metadata": {},
   "outputs": [],
   "source": []
  }
 ],
 "metadata": {
  "kernelspec": {
   "display_name": "Python 3 (ipykernel)",
   "language": "python",
   "name": "python3"
  },
  "language_info": {
   "codemirror_mode": {
    "name": "ipython",
    "version": 3
   },
   "file_extension": ".py",
   "mimetype": "text/x-python",
   "name": "python",
   "nbconvert_exporter": "python",
   "pygments_lexer": "ipython3",
   "version": "3.11.7"
  }
 },
 "nbformat": 4,
 "nbformat_minor": 5
}
